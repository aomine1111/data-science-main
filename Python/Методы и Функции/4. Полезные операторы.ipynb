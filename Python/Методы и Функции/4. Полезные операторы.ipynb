{
 "cells": [
  {
   "metadata": {},
   "cell_type": "markdown",
   "source": "# Полезные операторы\n",
   "id": "8de20d243e941db8"
  },
  {
   "metadata": {},
   "cell_type": "markdown",
   "source": [
    "## range\n",
    "\n",
    "Функция range позволяет быстро *сгенерировать* список чисел. Это может пригодиться, так что посмотрите, как использовать эту функцию! В неё можно передать три параметра: начало, окончание, и размер шага. Рассмотрим несколько примеров:"
   ],
   "id": "f3f1fc15923972b"
  },
  {
   "metadata": {
    "ExecuteTime": {
     "end_time": "2025-09-23T02:40:35.062994Z",
     "start_time": "2025-09-23T02:40:35.052279Z"
    }
   },
   "cell_type": "code",
   "source": "range(0,11)",
   "id": "80cffe62d5419d85",
   "outputs": [
    {
     "data": {
      "text/plain": [
       "range(0, 11)"
      ]
     },
     "execution_count": 1,
     "metadata": {},
     "output_type": "execute_result"
    }
   ],
   "execution_count": 1
  },
  {
   "metadata": {},
   "cell_type": "markdown",
   "source": "Обратите внимание, что range это функция-генератор (**generator**), и чтобы получить из неё список значений, нам нужно привести ее к списку с помощью **list()**. Что такое генератор? Это специальный тип функции, которая генерирует информацию и не сохраняет эту информацию целиком в памяти. Мы еще не говорили о функциях и генераторах, так что просто посмотрите на них сейчас, мы рассмотрим их более подробно позднее в этом курсе!",
   "id": "839713348a7a859a"
  },
  {
   "metadata": {
    "ExecuteTime": {
     "end_time": "2025-09-23T02:41:00.220357Z",
     "start_time": "2025-09-23T02:41:00.214007Z"
    }
   },
   "cell_type": "code",
   "source": [
    "# Обратите внимание, что число 11 не включено - номера идут до 11, но не включая это число!\n",
    "list(range(0,11))"
   ],
   "id": "efbaf0579fa0cd06",
   "outputs": [
    {
     "data": {
      "text/plain": [
       "[0, 1, 2, 3, 4, 5, 6, 7, 8, 9, 10]"
      ]
     },
     "execution_count": 2,
     "metadata": {},
     "output_type": "execute_result"
    }
   ],
   "execution_count": 2
  },
  {
   "metadata": {
    "ExecuteTime": {
     "end_time": "2025-09-23T02:41:15.089568Z",
     "start_time": "2025-09-23T02:41:15.083346Z"
    }
   },
   "cell_type": "code",
   "source": [
    "# Третий параметр это размер шага!\n",
    "# Размер шага означает, с каким шагом двигаться вперёд, от одного числа к следующему.\n",
    "\n",
    "list(range(0,11,2))"
   ],
   "id": "41f243ab809517f7",
   "outputs": [
    {
     "data": {
      "text/plain": [
       "[0, 2, 4, 6, 8, 10]"
      ]
     },
     "execution_count": 3,
     "metadata": {},
     "output_type": "execute_result"
    }
   ],
   "execution_count": 3
  },
  {
   "metadata": {},
   "cell_type": "markdown",
   "source": [
    "## enumerate\n",
    "\n",
    "Функция enumerate очень полезна для использования в циклах for. Представим следующую ситуацию:"
   ],
   "id": "b1e35b05020e0a22"
  },
  {
   "metadata": {
    "ExecuteTime": {
     "end_time": "2025-09-23T02:44:10.889313Z",
     "start_time": "2025-09-23T02:44:10.883360Z"
    }
   },
   "cell_type": "code",
   "source": [
    "index_count = 0\n",
    "\n",
    "for letter in 'abcde':\n",
    "    print(\"На позиции {} находится буква {}\".format(index_count,letter))\n",
    "    index_count += 1"
   ],
   "id": "e426d83077258048",
   "outputs": [
    {
     "name": "stdout",
     "output_type": "stream",
     "text": [
      "На позиции 0 находится буква a\n",
      "На позиции 1 находится буква b\n",
      "На позиции 2 находится буква c\n",
      "На позиции 3 находится буква d\n",
      "На позиции 4 находится буква e\n"
     ]
    }
   ],
   "execution_count": 4
  },
  {
   "metadata": {},
   "cell_type": "markdown",
   "source": "Чтобы отследить, сколько шагов цикла уже было выполнено, можно использовать функцию enumerate и не беспокоиться о создании и обновлении переменной index_count.",
   "id": "3908a3af6d8a6dd2"
  },
  {
   "metadata": {
    "ExecuteTime": {
     "end_time": "2025-09-23T02:46:12.552073Z",
     "start_time": "2025-09-23T02:46:12.546851Z"
    }
   },
   "cell_type": "code",
   "source": [
    "# Обратите внимание на распаковку кортежей!\n",
    "\n",
    "for i,letter in enumerate('abcde'):\n",
    "    print(\"На позиции {} находится буква {}\".format(i,letter))"
   ],
   "id": "a08809488600fecf",
   "outputs": [
    {
     "name": "stdout",
     "output_type": "stream",
     "text": [
      "На позиции 0 находится буква a\n",
      "На позиции 1 находится буква b\n",
      "На позиции 2 находится буква c\n",
      "На позиции 3 находится буква d\n",
      "На позиции 4 находится буква e\n"
     ]
    }
   ],
   "execution_count": 5
  },
  {
   "metadata": {},
   "cell_type": "markdown",
   "source": [
    "## zip\n",
    "\n",
    "Обратите внимание на формат, который возвращает enumerate. Давайте посмотрим это, преобразовав результат в список:"
   ],
   "id": "2b073ed31030adfa"
  },
  {
   "metadata": {
    "ExecuteTime": {
     "end_time": "2025-09-23T02:47:25.222555Z",
     "start_time": "2025-09-23T02:47:25.216583Z"
    }
   },
   "cell_type": "code",
   "source": "list(enumerate('abcde'))",
   "id": "f910ec1dfb568e2d",
   "outputs": [
    {
     "data": {
      "text/plain": [
       "[(0, 'a'), (1, 'b'), (2, 'c'), (3, 'd'), (4, 'e')]"
      ]
     },
     "execution_count": 6,
     "metadata": {},
     "output_type": "execute_result"
    }
   ],
   "execution_count": 6
  },
  {
   "metadata": {},
   "cell_type": "markdown",
   "source": "Это список кортежей, то есть мы можем распаковать кортежи во время цикла for. Эта структура данных достаточно типична для Python, особенно при работе со сторонними библиотеками. Вы можете использовать функцию **zip()**, чтобы создать список кортежей, соединив вместе два списка",
   "id": "8f30c6e9795c2281"
  },
  {
   "metadata": {
    "ExecuteTime": {
     "end_time": "2025-09-23T02:48:24.200486Z",
     "start_time": "2025-09-23T02:48:24.195113Z"
    }
   },
   "cell_type": "code",
   "source": [
    "mylist1 = [1,2,3,4,5]\n",
    "mylist2 = ['a','b','c','d','e']"
   ],
   "id": "472251bee63edb7f",
   "outputs": [],
   "execution_count": 7
  },
  {
   "metadata": {
    "ExecuteTime": {
     "end_time": "2025-09-23T02:48:59.284866Z",
     "start_time": "2025-09-23T02:48:59.278735Z"
    }
   },
   "cell_type": "code",
   "source": [
    "# Это тоже генератор! Мы обсудим генераторы позже, а сейчас давайте в следующей ячейке преобразуем zip в список\n",
    "zip(mylist1,mylist2)"
   ],
   "id": "959a24b10ebfe4cc",
   "outputs": [
    {
     "data": {
      "text/plain": [
       "<zip at 0x1d0679a3680>"
      ]
     },
     "execution_count": 8,
     "metadata": {},
     "output_type": "execute_result"
    }
   ],
   "execution_count": 8
  },
  {
   "metadata": {
    "ExecuteTime": {
     "end_time": "2025-09-23T02:49:08.818919Z",
     "start_time": "2025-09-23T02:49:08.812769Z"
    }
   },
   "cell_type": "code",
   "source": "list(zip(mylist1,mylist2))",
   "id": "b91eff203722d638",
   "outputs": [
    {
     "data": {
      "text/plain": [
       "[(1, 'a'), (2, 'b'), (3, 'c'), (4, 'd'), (5, 'e')]"
      ]
     },
     "execution_count": 9,
     "metadata": {},
     "output_type": "execute_result"
    }
   ],
   "execution_count": 9
  },
  {
   "metadata": {},
   "cell_type": "markdown",
   "source": "Чтобы использовать генератор, мы можем просто использовать цикл for",
   "id": "ba5664d6d89cf05a"
  },
  {
   "metadata": {
    "ExecuteTime": {
     "end_time": "2025-09-23T02:50:40.069331Z",
     "start_time": "2025-09-23T02:50:40.064134Z"
    }
   },
   "cell_type": "code",
   "source": [
    "for item1, item2 in zip(mylist1,mylist2):\n",
    "    print('Для этого кортежа первый элемент это {}, и второй элемент это {}'.format(item1,item2))"
   ],
   "id": "ad1c3541d3cad3b1",
   "outputs": [
    {
     "name": "stdout",
     "output_type": "stream",
     "text": [
      "Для этого кортежа первый элемент это 1, и второй элемент это a\n",
      "Для этого кортежа первый элемент это 2, и второй элемент это b\n",
      "Для этого кортежа первый элемент это 3, и второй элемент это c\n",
      "Для этого кортежа первый элемент это 4, и второй элемент это d\n",
      "Для этого кортежа первый элемент это 5, и второй элемент это e\n"
     ]
    }
   ],
   "execution_count": 10
  },
  {
   "metadata": {},
   "cell_type": "markdown",
   "source": [
    "## Оператор in\n",
    "\n",
    "Мы уже видели ключевое слово **in** в цикле for, но мы также можем использовать его, чтобы проверить, содержится ли элемент в списке."
   ],
   "id": "d91644dbf851d358"
  },
  {
   "metadata": {
    "ExecuteTime": {
     "end_time": "2025-09-23T02:51:06.368665Z",
     "start_time": "2025-09-23T02:51:06.363086Z"
    }
   },
   "cell_type": "code",
   "source": "'x' in ['x','y','z']",
   "id": "14b857c694d637b6",
   "outputs": [
    {
     "data": {
      "text/plain": [
       "True"
      ]
     },
     "execution_count": 11,
     "metadata": {},
     "output_type": "execute_result"
    }
   ],
   "execution_count": 11
  },
  {
   "metadata": {
    "ExecuteTime": {
     "end_time": "2025-09-23T02:51:11.341712Z",
     "start_time": "2025-09-23T02:51:11.335482Z"
    }
   },
   "cell_type": "code",
   "source": "'x' in [1,2,3]",
   "id": "eeec995f1235092a",
   "outputs": [
    {
     "data": {
      "text/plain": [
       "False"
      ]
     },
     "execution_count": 12,
     "metadata": {},
     "output_type": "execute_result"
    }
   ],
   "execution_count": 12
  },
  {
   "metadata": {},
   "cell_type": "markdown",
   "source": [
    "## min и max\n",
    "\n",
    "С помощью этих функций можно узнать минимальное и максимальное значение в списке."
   ],
   "id": "72d1b65bac4ea167"
  },
  {
   "metadata": {
    "ExecuteTime": {
     "end_time": "2025-09-23T02:52:29.444562Z",
     "start_time": "2025-09-23T02:52:29.439959Z"
    }
   },
   "cell_type": "code",
   "source": "mylist = [10,20,30,40,100]",
   "id": "6cefb43126e3490a",
   "outputs": [],
   "execution_count": 13
  },
  {
   "metadata": {
    "ExecuteTime": {
     "end_time": "2025-09-23T02:52:41.805233Z",
     "start_time": "2025-09-23T02:52:41.800036Z"
    }
   },
   "cell_type": "code",
   "source": "min(mylist)",
   "id": "5b7e29edcfe26f4e",
   "outputs": [
    {
     "data": {
      "text/plain": [
       "10"
      ]
     },
     "execution_count": 15,
     "metadata": {},
     "output_type": "execute_result"
    }
   ],
   "execution_count": 15
  },
  {
   "metadata": {
    "ExecuteTime": {
     "end_time": "2025-09-23T02:52:42.509787Z",
     "start_time": "2025-09-23T02:52:42.504214Z"
    }
   },
   "cell_type": "code",
   "source": "max(mylist)",
   "id": "5dfdfa1e630a9a11",
   "outputs": [
    {
     "data": {
      "text/plain": [
       "100"
      ]
     },
     "execution_count": 16,
     "metadata": {},
     "output_type": "execute_result"
    }
   ],
   "execution_count": 16
  },
  {
   "metadata": {},
   "cell_type": "markdown",
   "source": [
    "## random\n",
    "\n",
    "В Python есть встроенная библиотека random. В этой библиотеке много функций, и сейчас мы посмотрим только две из них."
   ],
   "id": "72a3f7cd4430a34e"
  },
  {
   "metadata": {
    "ExecuteTime": {
     "end_time": "2025-09-23T02:55:39.268701Z",
     "start_time": "2025-09-23T02:55:39.264112Z"
    }
   },
   "cell_type": "code",
   "source": "from random import shuffle",
   "id": "e8894ebc29bd1b44",
   "outputs": [],
   "execution_count": 17
  },
  {
   "metadata": {
    "ExecuteTime": {
     "end_time": "2025-09-23T02:56:03.582392Z",
     "start_time": "2025-09-23T02:56:03.578331Z"
    }
   },
   "cell_type": "code",
   "source": [
    "# Перемешать список \"на месте\", то есть эта функция\n",
    "# меняет список, но при этом ничего не возвращает\n",
    "shuffle(mylist)"
   ],
   "id": "33c97148c86e6593",
   "outputs": [],
   "execution_count": 18
  },
  {
   "metadata": {
    "ExecuteTime": {
     "end_time": "2025-09-23T02:56:11.674490Z",
     "start_time": "2025-09-23T02:56:11.669535Z"
    }
   },
   "cell_type": "code",
   "source": "mylist",
   "id": "99ba48deaa9cc8ae",
   "outputs": [
    {
     "data": {
      "text/plain": [
       "[100, 30, 40, 20, 10]"
      ]
     },
     "execution_count": 19,
     "metadata": {},
     "output_type": "execute_result"
    }
   ],
   "execution_count": 19
  },
  {
   "metadata": {
    "ExecuteTime": {
     "end_time": "2025-09-23T02:56:59.272806Z",
     "start_time": "2025-09-23T02:56:59.266124Z"
    }
   },
   "cell_type": "code",
   "source": "from random import randint",
   "id": "f9dec87c0d352c46",
   "outputs": [],
   "execution_count": 20
  },
  {
   "metadata": {
    "ExecuteTime": {
     "end_time": "2025-09-23T02:57:20.766463Z",
     "start_time": "2025-09-23T02:57:20.760387Z"
    }
   },
   "cell_type": "code",
   "source": [
    "# Возвращает случайное число integer в диапазоне [a, b], включая оба пограничных значения.\n",
    "randint(0,100)"
   ],
   "id": "2aafefdfe0873727",
   "outputs": [
    {
     "data": {
      "text/plain": [
       "15"
      ]
     },
     "execution_count": 22,
     "metadata": {},
     "output_type": "execute_result"
    }
   ],
   "execution_count": 22
  },
  {
   "metadata": {
    "ExecuteTime": {
     "end_time": "2025-09-23T02:57:38.181766Z",
     "start_time": "2025-09-23T02:57:38.174589Z"
    }
   },
   "cell_type": "code",
   "source": [
    "# Возвращает случайное число integer в диапазоне [a, b], включая оба пограничных значения.\n",
    "randint(0,100)"
   ],
   "id": "8cc278ca992652b0",
   "outputs": [
    {
     "data": {
      "text/plain": [
       "14"
      ]
     },
     "execution_count": 23,
     "metadata": {},
     "output_type": "execute_result"
    }
   ],
   "execution_count": 23
  },
  {
   "metadata": {},
   "cell_type": "markdown",
   "source": "## input",
   "id": "62a525d2f12d6399"
  },
  {
   "metadata": {
    "ExecuteTime": {
     "end_time": "2025-09-23T02:59:19.017679Z",
     "start_time": "2025-09-23T02:59:16.148389Z"
    }
   },
   "cell_type": "code",
   "source": "input('Введите что-нибудь в этом поле: ')",
   "id": "60be432e4ffba101",
   "outputs": [
    {
     "data": {
      "text/plain": [
       "'1'"
      ]
     },
     "execution_count": 25,
     "metadata": {},
     "output_type": "execute_result"
    }
   ],
   "execution_count": 25
  }
 ],
 "metadata": {
  "kernelspec": {
   "display_name": "Python 3",
   "language": "python",
   "name": "python3"
  },
  "language_info": {
   "codemirror_mode": {
    "name": "ipython",
    "version": 2
   },
   "file_extension": ".py",
   "mimetype": "text/x-python",
   "name": "python",
   "nbconvert_exporter": "python",
   "pygments_lexer": "ipython2",
   "version": "2.7.6"
  }
 },
 "nbformat": 4,
 "nbformat_minor": 5
}
