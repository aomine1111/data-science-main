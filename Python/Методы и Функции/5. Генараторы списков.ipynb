{
 "cells": [
  {
   "metadata": {},
   "cell_type": "markdown",
   "source": [
    "# Генераторы списков (List Comprehensions)\n",
    "\n",
    "В дополнение к операциям для последовательностей и методам для списков, в Python есть более продвинутая операция, которая называется генератор списков (этот термин сложно перевести на русский язык, по-английски это list comprehension).\n",
    "\n",
    "Генераторы списков позволяют создавать списки, используя другой синтаксис. Его можно представить себе как цикл <code>for</code>, написанный внутри квадратных скобок. Например:\n",
    "## Example 1"
   ],
   "id": "e5ca7e0dbd9c3118"
  },
  {
   "metadata": {
    "ExecuteTime": {
     "end_time": "2025-09-23T03:19:57.978543Z",
     "start_time": "2025-09-23T03:19:57.973755Z"
    }
   },
   "cell_type": "code",
   "source": [
    "# Получить все буквы в строке\n",
    "lst = [x for x in 'word']"
   ],
   "id": "fa525474a4e3050a",
   "outputs": [],
   "execution_count": 3
  },
  {
   "metadata": {
    "ExecuteTime": {
     "end_time": "2025-09-23T03:20:03.453311Z",
     "start_time": "2025-09-23T03:20:03.445432Z"
    }
   },
   "cell_type": "code",
   "source": [
    "# Проверка\n",
    "lst"
   ],
   "id": "ef355ca310f8646f",
   "outputs": [
    {
     "data": {
      "text/plain": [
       "['w', 'o', 'r', 'd']"
      ]
     },
     "execution_count": 4,
     "metadata": {},
     "output_type": "execute_result"
    }
   ],
   "execution_count": 4
  },
  {
   "metadata": {},
   "cell_type": "markdown",
   "source": [
    "Это основная идея генератора списков. Если Вы знакомы с математической нотацией, то этот формат выглядит похоже, например: x^2 : x in { 0,1,2...10 }\n",
    "\n",
    "Рассмотрим ещё несколько примеров для генератора списков в Python:\n",
    "## Пример 2"
   ],
   "id": "acb9d1bc7f49d930"
  },
  {
   "metadata": {
    "ExecuteTime": {
     "end_time": "2025-09-23T03:20:40.410304Z",
     "start_time": "2025-09-23T03:20:40.406291Z"
    }
   },
   "cell_type": "code",
   "source": [
    "# Взять диапазон чисел, возвести их в квадрат, и вернуть в виде списка\n",
    "lst = [x**2 for x in range(0,11)]"
   ],
   "id": "209e170423677b0",
   "outputs": [],
   "execution_count": 5
  },
  {
   "metadata": {
    "ExecuteTime": {
     "end_time": "2025-09-23T03:20:44.734742Z",
     "start_time": "2025-09-23T03:20:44.728805Z"
    }
   },
   "cell_type": "code",
   "source": "lst",
   "id": "1a4c160d2b108079",
   "outputs": [
    {
     "data": {
      "text/plain": [
       "[0, 1, 4, 9, 16, 25, 36, 49, 64, 81, 100]"
      ]
     },
     "execution_count": 6,
     "metadata": {},
     "output_type": "execute_result"
    }
   ],
   "execution_count": 6
  },
  {
   "metadata": {},
   "cell_type": "markdown",
   "source": [
    "## Пример 3\n",
    "Посмотрим как можно добавить оператор <code>if</code>:"
   ],
   "id": "5ee78d9ac1dd8c59"
  },
  {
   "metadata": {
    "ExecuteTime": {
     "end_time": "2025-09-23T03:21:02.362628Z",
     "start_time": "2025-09-23T03:21:02.358509Z"
    }
   },
   "cell_type": "code",
   "source": [
    "# Взять чётные числа из диапазона\n",
    "lst = [x for x in range(11) if x % 2 == 0]"
   ],
   "id": "6079741c1961b8c6",
   "outputs": [],
   "execution_count": 7
  },
  {
   "metadata": {
    "ExecuteTime": {
     "end_time": "2025-09-23T03:21:07.088790Z",
     "start_time": "2025-09-23T03:21:07.082619Z"
    }
   },
   "cell_type": "code",
   "source": "lst",
   "id": "bcab99072295b8fe",
   "outputs": [
    {
     "data": {
      "text/plain": [
       "[0, 2, 4, 6, 8, 10]"
      ]
     },
     "execution_count": 8,
     "metadata": {},
     "output_type": "execute_result"
    }
   ],
   "execution_count": 8
  },
  {
   "metadata": {},
   "cell_type": "markdown",
   "source": [
    "## Пример 4\n",
    "Мы также можем выполнить более сложную арифметику:"
   ],
   "id": "1a831db9aacab514"
  },
  {
   "metadata": {
    "ExecuteTime": {
     "end_time": "2025-09-23T03:21:22.506786Z",
     "start_time": "2025-09-23T03:21:22.499693Z"
    }
   },
   "cell_type": "code",
   "source": [
    "# Сконвертировать градусы Цельсия в градусы Фаренгейта\n",
    "celsius = [0,10,20.1,34.5]\n",
    "\n",
    "fahrenheit = [((9/5)*temp + 32) for temp in celsius ]\n",
    "\n",
    "fahrenheit"
   ],
   "id": "2701b635b05bbe23",
   "outputs": [
    {
     "data": {
      "text/plain": [
       "[32.0, 50.0, 68.18, 94.1]"
      ]
     },
     "execution_count": 9,
     "metadata": {},
     "output_type": "execute_result"
    }
   ],
   "execution_count": 9
  },
  {
   "metadata": {},
   "cell_type": "markdown",
   "source": [
    "## Пример 5\n",
    "Мы также можем создавать вложенные генераторы списков, например:"
   ],
   "id": "6d31e9da45f988e9"
  },
  {
   "metadata": {
    "ExecuteTime": {
     "end_time": "2025-09-23T03:21:36.414470Z",
     "start_time": "2025-09-23T03:21:36.407893Z"
    }
   },
   "cell_type": "code",
   "source": [
    "lst = [ x**2 for x in [x**2 for x in range(11)]]\n",
    "lst"
   ],
   "id": "32758f65397fb456",
   "outputs": [
    {
     "data": {
      "text/plain": [
       "[0, 1, 16, 81, 256, 625, 1296, 2401, 4096, 6561, 10000]"
      ]
     },
     "execution_count": 10,
     "metadata": {},
     "output_type": "execute_result"
    }
   ],
   "execution_count": 10
  }
 ],
 "metadata": {
  "kernelspec": {
   "display_name": "Python 3",
   "language": "python",
   "name": "python3"
  },
  "language_info": {
   "codemirror_mode": {
    "name": "ipython",
    "version": 2
   },
   "file_extension": ".py",
   "mimetype": "text/x-python",
   "name": "python",
   "nbconvert_exporter": "python",
   "pygments_lexer": "ipython2",
   "version": "2.7.6"
  }
 },
 "nbformat": 4,
 "nbformat_minor": 5
}
