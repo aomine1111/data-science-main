{
 "cells": [
  {
   "metadata": {},
   "cell_type": "markdown",
   "source": "# Проверочные задания - операторы",
   "id": "4dc9a86aeb5a0b11"
  },
  {
   "metadata": {},
   "cell_type": "markdown",
   "source": "**Используйте <code>for</code>, .split() и <code>if</code>, чтобы написать команду, которая выведет только те слова, которые начинаются с буквы 's':*",
   "id": "72c47dcd0c4f2bdb"
  },
  {
   "metadata": {
    "ExecuteTime": {
     "end_time": "2025-09-24T09:48:47.580323Z",
     "start_time": "2025-09-24T09:48:47.575472Z"
    }
   },
   "cell_type": "code",
   "source": "st = \"Print only the words that start with s in this sentence\"",
   "id": "f5c6d0187740eaef",
   "outputs": [],
   "execution_count": 3
  },
  {
   "metadata": {
    "ExecuteTime": {
     "end_time": "2025-09-24T09:55:28.461817Z",
     "start_time": "2025-09-24T09:55:28.456586Z"
    }
   },
   "cell_type": "code",
   "source": [
    "a = st.split()\n",
    "for word in a:\n",
    "    if word[0] == \"s\":\n",
    "        print(word)"
   ],
   "id": "67b2f27cf51b7a1e",
   "outputs": [
    {
     "name": "stdout",
     "output_type": "stream",
     "text": [
      "start\n",
      "s\n",
      "sentence\n"
     ]
    }
   ],
   "execution_count": 14
  },
  {
   "metadata": {},
   "cell_type": "markdown",
   "source": "**Используйте range(), чтобы распечатать все чётные числа от 0 до 10.**",
   "id": "33b460e4e9231181"
  },
  {
   "metadata": {
    "ExecuteTime": {
     "end_time": "2025-09-24T09:56:07.386987Z",
     "start_time": "2025-09-24T09:56:07.382315Z"
    }
   },
   "cell_type": "code",
   "source": [
    "for i in range(0,11,2):\n",
    "    print(i)"
   ],
   "id": "1594b72bb42c3c16",
   "outputs": [
    {
     "name": "stdout",
     "output_type": "stream",
     "text": [
      "0\n",
      "2\n",
      "4\n",
      "6\n",
      "8\n",
      "10\n"
     ]
    }
   ],
   "execution_count": 15
  },
  {
   "metadata": {},
   "cell_type": "markdown",
   "source": "**Используйте генератор списков, чтобы создать список всех чисел от 1 до 50, которые делятся нацело на 3.**",
   "id": "2498f11486b52bb9"
  },
  {
   "metadata": {
    "ExecuteTime": {
     "end_time": "2025-09-24T09:57:48.198467Z",
     "start_time": "2025-09-24T09:57:48.193467Z"
    }
   },
   "cell_type": "code",
   "source": [
    "gem = [x for x in range(1,50,3)]\n",
    "print(gem)"
   ],
   "id": "e7e458d80512f1c5",
   "outputs": [
    {
     "name": "stdout",
     "output_type": "stream",
     "text": [
      "[1, 4, 7, 10, 13, 16, 19, 22, 25, 28, 31, 34, 37, 40, 43, 46, 49]\n"
     ]
    }
   ],
   "execution_count": 18
  },
  {
   "metadata": {},
   "cell_type": "markdown",
   "source": "**Пройдите по словам в строке ниже, и если длина слова чётная, то напечатайте \"Это слово имеет чётную длину!\"**",
   "id": "4d15989ad05c380c"
  },
  {
   "metadata": {
    "ExecuteTime": {
     "end_time": "2025-09-24T09:58:01.992687Z",
     "start_time": "2025-09-24T09:58:01.988634Z"
    }
   },
   "cell_type": "code",
   "source": "st = 'Print every word in this sentence that has an even number of letters'",
   "id": "f4197d9a41ed9546",
   "outputs": [],
   "execution_count": 19
  },
  {
   "metadata": {
    "ExecuteTime": {
     "end_time": "2025-09-24T09:59:50.337909Z",
     "start_time": "2025-09-24T09:59:50.331766Z"
    }
   },
   "cell_type": "code",
   "source": [
    "st_1= st.split()\n",
    "for word in st_1:\n",
    "    if len(word) % 2 == 0:\n",
    "        print(word)"
   ],
   "id": "100c28dbc5ca05b0",
   "outputs": [
    {
     "name": "stdout",
     "output_type": "stream",
     "text": [
      "word\n",
      "in\n",
      "this\n",
      "sentence\n",
      "that\n",
      "an\n",
      "even\n",
      "number\n",
      "of\n"
     ]
    }
   ],
   "execution_count": 21
  },
  {
   "metadata": {},
   "cell_type": "markdown",
   "source": "**Напишите программу, которая напечатает числа от 1 до 100. Но для тех чисел, которые делятся нацело на 3, вместо числа выведите \"Fizz\", а для чисел которые делятся нацело на 5, выведите \"Buzz\". А для чисел, которые делятся нацело и на 3, и на 5, выведите \"FizzBuzz\".**",
   "id": "eac546b14c9883ea"
  },
  {
   "metadata": {
    "ExecuteTime": {
     "end_time": "2025-09-24T10:04:04.156262Z",
     "start_time": "2025-09-24T10:04:04.149168Z"
    }
   },
   "cell_type": "code",
   "source": [
    "for num in range(1,100):\n",
    "    if num % 3 == 0:\n",
    "        print(\"Fizz\")\n",
    "    elif num % 5 == 0:\n",
    "        print(\"Buzz\")\n",
    "    else:\n",
    "        print(num)\n"
   ],
   "id": "82ef1b8c83694a59",
   "outputs": [
    {
     "name": "stdout",
     "output_type": "stream",
     "text": [
      "1\n",
      "2\n",
      "Fizz\n",
      "4\n",
      "Buzz\n",
      "Fizz\n",
      "7\n",
      "8\n",
      "Fizz\n",
      "Buzz\n",
      "11\n",
      "Fizz\n",
      "13\n",
      "14\n",
      "Fizz\n",
      "16\n",
      "17\n",
      "Fizz\n",
      "19\n",
      "Buzz\n",
      "Fizz\n",
      "22\n",
      "23\n",
      "Fizz\n",
      "Buzz\n",
      "26\n",
      "Fizz\n",
      "28\n",
      "29\n",
      "Fizz\n",
      "31\n",
      "32\n",
      "Fizz\n",
      "34\n",
      "Buzz\n",
      "Fizz\n",
      "37\n",
      "38\n",
      "Fizz\n",
      "Buzz\n",
      "41\n",
      "Fizz\n",
      "43\n",
      "44\n",
      "Fizz\n",
      "46\n",
      "47\n",
      "Fizz\n",
      "49\n",
      "Buzz\n",
      "Fizz\n",
      "52\n",
      "53\n",
      "Fizz\n",
      "Buzz\n",
      "56\n",
      "Fizz\n",
      "58\n",
      "59\n",
      "Fizz\n",
      "61\n",
      "62\n",
      "Fizz\n",
      "64\n",
      "Buzz\n",
      "Fizz\n",
      "67\n",
      "68\n",
      "Fizz\n",
      "Buzz\n",
      "71\n",
      "Fizz\n",
      "73\n",
      "74\n",
      "Fizz\n",
      "76\n",
      "77\n",
      "Fizz\n",
      "79\n",
      "Buzz\n",
      "Fizz\n",
      "82\n",
      "83\n",
      "Fizz\n",
      "Buzz\n",
      "86\n",
      "Fizz\n",
      "88\n",
      "89\n",
      "Fizz\n",
      "91\n",
      "92\n",
      "Fizz\n",
      "94\n",
      "Buzz\n",
      "Fizz\n",
      "97\n",
      "98\n",
      "Fizz\n"
     ]
    }
   ],
   "execution_count": 25
  },
  {
   "metadata": {},
   "cell_type": "code",
   "outputs": [],
   "execution_count": null,
   "source": "",
   "id": "e7fb0da52ab5f822"
  }
 ],
 "metadata": {
  "kernelspec": {
   "display_name": "Python 3",
   "language": "python",
   "name": "python3"
  },
  "language_info": {
   "codemirror_mode": {
    "name": "ipython",
    "version": 2
   },
   "file_extension": ".py",
   "mimetype": "text/x-python",
   "name": "python",
   "nbconvert_exporter": "python",
   "pygments_lexer": "ipython2",
   "version": "2.7.6"
  }
 },
 "nbformat": 4,
 "nbformat_minor": 5
}
