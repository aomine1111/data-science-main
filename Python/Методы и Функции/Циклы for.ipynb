{
 "cells": [
  {
   "metadata": {},
   "cell_type": "markdown",
   "source": [
    "# Циклы for\n",
    "\n",
    "Циклы <code>for</code> позволяют выполнять итерации в Python; с помощью цикла можно пройти по набору элементов, которые находятся в *последовательности*, или в любом итерируемом наборе объектов. Объекты, которые мы изучали и по которым можно пройтись в цикле - это строки, списки, кортежи, и даже встроенные итерации для словарей, такие как ключи (keys) и значения (values).\n",
    "\n",
    "Мы уже видели небольшой пример оператора <code>for</code> в предыдущих лекциях, но теперь давайте его формализуем.\n",
    "\n",
    "Общий формат цикла <code>for</code> в Python выглядит так:\n",
    "\n",
    "    for item in object:\n",
    "        команда для выполнения"
   ],
   "id": "53a2438ea25d1162"
  },
  {
   "metadata": {},
   "cell_type": "markdown",
   "source": [
    "Название переменной item для очередного элемента может быть любым, каким Вы хотите. Так что используйте название, которое имеет смысл и которое будет понятно, когда Вы будете позднее читать этот код. Это название переменной можно использовать внутри цикла, например для выполнения проверок <code>if</code>.\n",
    "\n",
    "Давайте рассмотрим несколько примеров для цикла <code>for</code>, используя различные типы объектов. Мы начнем с простых вещей, и постепенно перейдём к более сложным.\n",
    "\n",
    "## Пример 1\n",
    "Итерации по списку"
   ],
   "id": "4c25ad9b9dc12609"
  },
  {
   "metadata": {
    "ExecuteTime": {
     "end_time": "2025-09-23T01:57:36.398907Z",
     "start_time": "2025-09-23T01:57:36.394424Z"
    }
   },
   "cell_type": "code",
   "source": "list1 = [1,2,3,4,5,6,7,8,9,10]",
   "id": "22a25219a74d0c31",
   "outputs": [],
   "execution_count": 9
  },
  {
   "metadata": {
    "ExecuteTime": {
     "end_time": "2025-09-23T01:57:37.414915Z",
     "start_time": "2025-09-23T01:57:37.409758Z"
    }
   },
   "cell_type": "code",
   "source": [
    "for num in list1:\n",
    "    print(num)"
   ],
   "id": "1f5e3ed1d8ddbcaa",
   "outputs": [
    {
     "name": "stdout",
     "output_type": "stream",
     "text": [
      "1\n",
      "2\n",
      "3\n",
      "4\n",
      "5\n",
      "6\n",
      "7\n",
      "8\n",
      "9\n",
      "10\n"
     ]
    }
   ],
   "execution_count": 10
  },
  {
   "metadata": {},
   "cell_type": "markdown",
   "source": [
    "## Пример 2\n",
    "Давайте выведем из списка только чётные числа!"
   ],
   "id": "16e221276150647"
  },
  {
   "metadata": {
    "ExecuteTime": {
     "end_time": "2025-09-23T01:58:57.983710Z",
     "start_time": "2025-09-23T01:58:57.978755Z"
    }
   },
   "cell_type": "code",
   "source": [
    "for num in list1:\n",
    "    if num % 2 == 0:\n",
    "        print(num)"
   ],
   "id": "13c0092b1dd1ff4a",
   "outputs": [
    {
     "name": "stdout",
     "output_type": "stream",
     "text": [
      "2\n",
      "4\n",
      "6\n",
      "8\n",
      "10\n"
     ]
    }
   ],
   "execution_count": 14
  },
  {
   "metadata": {},
   "cell_type": "markdown",
   "source": "Мы также можем написать оператор <code>else</code>:",
   "id": "4f946d3e562ac29c"
  },
  {
   "metadata": {
    "ExecuteTime": {
     "end_time": "2025-09-23T02:00:54.646347Z",
     "start_time": "2025-09-23T02:00:54.641342Z"
    }
   },
   "cell_type": "code",
   "source": [
    "for num in list1:\n",
    "    if num % 2 == 1:\n",
    "        print(f\"{num} Четное число\")\n",
    "    else:\n",
    "        print(f\"{num} Нечетное число\")"
   ],
   "id": "b23892cdcc754d65",
   "outputs": [
    {
     "name": "stdout",
     "output_type": "stream",
     "text": [
      "1 Четное число\n",
      "2 Нечетное число\n",
      "3 Четное число\n",
      "4 Нечетное число\n",
      "5 Четное число\n",
      "6 Нечетное число\n",
      "7 Четное число\n",
      "8 Нечетное число\n",
      "9 Четное число\n",
      "10 Нечетное число\n"
     ]
    }
   ],
   "execution_count": 17
  },
  {
   "metadata": {},
   "cell_type": "markdown",
   "source": [
    "## Пример 3\n",
    "Еще один распространённый приём для циклов <code>for</code> - это нахождения суммы элементов. Например, давайте напишем цикл <code>for</code> для суммирования элементов списка:"
   ],
   "id": "d2c63ead80115b12"
  },
  {
   "metadata": {
    "ExecuteTime": {
     "end_time": "2025-09-23T02:02:03.568942Z",
     "start_time": "2025-09-23T02:02:03.564199Z"
    }
   },
   "cell_type": "code",
   "source": [
    "list_sum = 0\n",
    "for num in list1:\n",
    "    list_sum += num\n",
    "print(list_sum)"
   ],
   "id": "1c561ca92df7a601",
   "outputs": [
    {
     "name": "stdout",
     "output_type": "stream",
     "text": [
      "55\n"
     ]
    }
   ],
   "execution_count": 18
  },
  {
   "metadata": {},
   "cell_type": "markdown",
   "source": [
    "## Пример 4\n",
    "Мы использовали циклы <code>for</code> для списков, а как насчет строк? Помните, строки это последовательности, поэтому когда мы выполняем итерации, то получим каждый символ в строке."
   ],
   "id": "12184703d9429986"
  },
  {
   "metadata": {
    "ExecuteTime": {
     "end_time": "2025-09-23T02:04:30.625948Z",
     "start_time": "2025-09-23T02:04:30.619945Z"
    }
   },
   "cell_type": "code",
   "source": [
    "for letter in \"This is a string\":\n",
    "    print(letter)"
   ],
   "id": "2a9027955af4a60d",
   "outputs": [
    {
     "name": "stdout",
     "output_type": "stream",
     "text": [
      "T\n",
      "h\n",
      "i\n",
      "s\n",
      " \n",
      "i\n",
      "s\n",
      " \n",
      "a\n",
      " \n",
      "s\n",
      "t\n",
      "r\n",
      "i\n",
      "n\n",
      "g\n"
     ]
    }
   ],
   "execution_count": 20
  },
  {
   "metadata": {},
   "cell_type": "markdown",
   "source": [
    "## Пример 5\n",
    "Теперь посмотрим, как пишется цикл <code>for</code> для кортежей (tuple):"
   ],
   "id": "173ac0d0ba83b61d"
  },
  {
   "metadata": {
    "ExecuteTime": {
     "end_time": "2025-09-23T02:05:32.543172Z",
     "start_time": "2025-09-23T02:05:32.538050Z"
    }
   },
   "cell_type": "code",
   "source": [
    "tup = (1,3,4,5,6)\n",
    "\n",
    "for t in tup:\n",
    "    print(t)"
   ],
   "id": "296c1ee54bf038d6",
   "outputs": [
    {
     "name": "stdout",
     "output_type": "stream",
     "text": [
      "1\n",
      "3\n",
      "4\n",
      "5\n",
      "6\n"
     ]
    }
   ],
   "execution_count": 21
  },
  {
   "metadata": {},
   "cell_type": "markdown",
   "source": [
    "## Пример 6\n",
    "Кортежи имеют особое свойство, когда речь заходит о циклах <code>for</code>. Если Вы выполняете итерации по последовательности, которая содержит кортежи, то выбираемый элемент тоже может быть кортежем. Это пример *распаковки кортежа* (*tuple unpacking*). В цикле <code>for</code> мы можем распаковывать кортежи внутри последовательности, и получать доступ к отдельным элементам внутри кортежа!"
   ],
   "id": "9f7045bc725ddb1a"
  },
  {
   "metadata": {
    "ExecuteTime": {
     "end_time": "2025-09-23T02:07:49.669478Z",
     "start_time": "2025-09-23T02:07:49.665445Z"
    }
   },
   "cell_type": "code",
   "source": "list2 = [(2,4),(6,8),(10,12)]",
   "id": "e21c5918afc9dbaa",
   "outputs": [],
   "execution_count": 22
  },
  {
   "metadata": {
    "ExecuteTime": {
     "end_time": "2025-09-23T02:08:00.467382Z",
     "start_time": "2025-09-23T02:08:00.462591Z"
    }
   },
   "cell_type": "code",
   "source": [
    "for tup in list2:\n",
    "    print(tup)"
   ],
   "id": "710c30de2539cd65",
   "outputs": [
    {
     "name": "stdout",
     "output_type": "stream",
     "text": [
      "(2, 4)\n",
      "(6, 8)\n",
      "(10, 12)\n"
     ]
    }
   ],
   "execution_count": 23
  },
  {
   "metadata": {
    "ExecuteTime": {
     "end_time": "2025-09-23T02:08:36.726197Z",
     "start_time": "2025-09-23T02:08:36.720815Z"
    }
   },
   "cell_type": "code",
   "source": [
    "for (t1,t2) in list2:\n",
    "    print(t1, t2)"
   ],
   "id": "e24f7e67cf440276",
   "outputs": [
    {
     "name": "stdout",
     "output_type": "stream",
     "text": [
      "2 4\n",
      "6 8\n",
      "10 12\n"
     ]
    }
   ],
   "execution_count": 25
  },
  {
   "metadata": {},
   "cell_type": "markdown",
   "source": "## Пример 7",
   "id": "2f59019a60f8c2ef"
  },
  {
   "metadata": {
    "ExecuteTime": {
     "end_time": "2025-09-23T02:15:12.881508Z",
     "start_time": "2025-09-23T02:15:12.876455Z"
    }
   },
   "cell_type": "code",
   "source": "d = {'k1':1,'k2':2,'k3':3}",
   "id": "1b3dd7a7a18a8e30",
   "outputs": [],
   "execution_count": 26
  },
  {
   "metadata": {
    "ExecuteTime": {
     "end_time": "2025-09-23T02:16:55.257091Z",
     "start_time": "2025-09-23T02:16:55.252244Z"
    }
   },
   "cell_type": "code",
   "source": [
    "for item in d:\n",
    "    print(item)"
   ],
   "id": "4bd5a5a6e9199774",
   "outputs": [
    {
     "name": "stdout",
     "output_type": "stream",
     "text": [
      "k1\n",
      "k2\n",
      "k3\n"
     ]
    }
   ],
   "execution_count": 27
  },
  {
   "metadata": {},
   "cell_type": "markdown",
   "source": [
    "Обратите внимание, что мы получили только ключи. Как мы можем получить значения? Или получить и ключи, и значения?\n",
    "\n",
    "Для этого рассмотрим три метода для словарей: **.keys()**, **.values()** and **.items()**\n",
    "\n",
    "В Python каждый из этих методов возвращает объект *dictionary view object*. Он поддерживает такие операции, как проверка содержания элемента и итерации, но его содержание не является независимым от основного словаря – это всего лишь предоставление (view). Давайте посмотрим это в действии:"
   ],
   "id": "99b8ede990943fdc"
  },
  {
   "metadata": {
    "ExecuteTime": {
     "end_time": "2025-09-23T02:19:13.157273Z",
     "start_time": "2025-09-23T02:19:13.147556Z"
    }
   },
   "cell_type": "code",
   "source": "d.items()",
   "id": "d504ff35ceceb745",
   "outputs": [
    {
     "data": {
      "text/plain": [
       "dict_items([('k1', 1), ('k2', 2), ('k3', 3)])"
      ]
     },
     "execution_count": 28,
     "metadata": {},
     "output_type": "execute_result"
    }
   ],
   "execution_count": 28
  },
  {
   "metadata": {},
   "cell_type": "markdown",
   "source": "Поскольку метод .items() поддерживает итерации, мы можем выполнить *распаковку словаря*, чтобы разделить ключи и значения, как мы видели в предыдущих примерах.",
   "id": "e894c0ce582cbe3a"
  },
  {
   "metadata": {
    "ExecuteTime": {
     "end_time": "2025-09-23T02:19:36.507953Z",
     "start_time": "2025-09-23T02:19:36.501693Z"
    }
   },
   "cell_type": "code",
   "source": [
    "# Распаковка словаря\n",
    "for k,v in d.items():\n",
    "    print(k)\n",
    "    print(v)"
   ],
   "id": "265d6a0e579ea998",
   "outputs": [
    {
     "name": "stdout",
     "output_type": "stream",
     "text": [
      "k1\n",
      "1\n",
      "k2\n",
      "2\n",
      "k3\n",
      "3\n"
     ]
    }
   ],
   "execution_count": 29
  },
  {
   "metadata": {},
   "cell_type": "markdown",
   "source": "Если Вы хотите получить сам список ключей, значений, или кортежей ключ/значение, то Вы можете сконвертировать представление в список:",
   "id": "dd6d0324dbfd451"
  },
  {
   "metadata": {
    "ExecuteTime": {
     "end_time": "2025-09-23T02:21:43.482411Z",
     "start_time": "2025-09-23T02:21:43.475563Z"
    }
   },
   "cell_type": "code",
   "source": "list(d.keys())",
   "id": "8f419e2b8bc8bbe8",
   "outputs": [
    {
     "data": {
      "text/plain": [
       "['k1', 'k2', 'k3']"
      ]
     },
     "execution_count": 31,
     "metadata": {},
     "output_type": "execute_result"
    }
   ],
   "execution_count": 31
  },
  {
   "metadata": {},
   "cell_type": "markdown",
   "source": "Помните, что словари неупорядочены, поэтому ключи и значения возвращаются в любом порядке. Вы можете получить отсортированный список с помощью sorted():",
   "id": "a51e3c64949547fd"
  },
  {
   "metadata": {
    "ExecuteTime": {
     "end_time": "2025-09-23T02:22:00.512470Z",
     "start_time": "2025-09-23T02:22:00.507008Z"
    }
   },
   "cell_type": "code",
   "source": "sorted(d.values())",
   "id": "af24a6c703222c1e",
   "outputs": [
    {
     "data": {
      "text/plain": [
       "[1, 2, 3]"
      ]
     },
     "execution_count": 32,
     "metadata": {},
     "output_type": "execute_result"
    }
   ],
   "execution_count": 32
  }
 ],
 "metadata": {
  "kernelspec": {
   "display_name": "Python 3",
   "language": "python",
   "name": "python3"
  },
  "language_info": {
   "codemirror_mode": {
    "name": "ipython",
    "version": 2
   },
   "file_extension": ".py",
   "mimetype": "text/x-python",
   "name": "python",
   "nbconvert_exporter": "python",
   "pygments_lexer": "ipython2",
   "version": "2.7.6"
  }
 },
 "nbformat": 4,
 "nbformat_minor": 5
}
