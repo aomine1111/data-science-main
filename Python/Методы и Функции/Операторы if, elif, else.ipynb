{
 "cells": [
  {
   "metadata": {},
   "cell_type": "markdown",
   "source": [
    "# Операторы if, elif, else\n",
    "\n",
    "Операторы <code>if</code> в Python позволяют компьютеру выполнять разные действия в зависимости от условий.\n",
    "\n",
    "Представьте, что мы говорим компьютеру:\n",
    "\n",
    "\"Если случится вот это, то выполни такое-то действие\"\n",
    "\n",
    "Мы также можем развить эту идею с помощью операторов <code>elif</code> и <code>else</code>, которые позволяют нам сказать компьютеру следующее:\n",
    "\n",
    "\"Если выполняется такое-то условие, то выполни такое-то действие. Иначе, если выполняется другое условие, то выполни другое действие. Иначе, если *никакие* из условий выше не выполнены, то выполни третье действие.\"\n",
    "\n",
    "Давайте посмотрим на синтаксис оператора <code>if</code>, чтобы увидеть это в действии:\n",
    "\n",
    "    if условие1:\n",
    "        выполнить действие1\n",
    "    elif условие2:\n",
    "        выполнить действие2\n",
    "    else:\n",
    "        выполнить действие3"
   ],
   "id": "891ea26025bfcaa0"
  },
  {
   "metadata": {},
   "cell_type": "markdown",
   "source": [
    "## Первый пример\n",
    "\n",
    "Рассмотрим пример:"
   ],
   "id": "a82b25638d00a71b"
  },
  {
   "metadata": {
    "ExecuteTime": {
     "end_time": "2025-09-23T01:44:39.636663Z",
     "start_time": "2025-09-23T01:44:39.631222Z"
    }
   },
   "cell_type": "code",
   "source": [
    "if True:\n",
    "    print(\"It was true\")"
   ],
   "id": "16445e7549a452fa",
   "outputs": [
    {
     "name": "stdout",
     "output_type": "stream",
     "text": [
      "It was true\n"
     ]
    }
   ],
   "execution_count": 1
  },
  {
   "metadata": {},
   "cell_type": "markdown",
   "source": "Добавим else:",
   "id": "d27c3b48b62e923d"
  },
  {
   "metadata": {
    "ExecuteTime": {
     "end_time": "2025-09-23T01:44:56.172529Z",
     "start_time": "2025-09-23T01:44:56.166616Z"
    }
   },
   "cell_type": "code",
   "source": [
    "x = False\n",
    "\n",
    "if x:\n",
    "    print('x равен True!')\n",
    "else:\n",
    "    print('Это предложение будет напечатано во всех случаях, когда x не равен true')"
   ],
   "id": "82be22dd81d286ba",
   "outputs": [
    {
     "name": "stdout",
     "output_type": "stream",
     "text": [
      "Это предложение будет напечатано во всех случаях, когда x не равен true\n"
     ]
    }
   ],
   "execution_count": 2
  },
  {
   "metadata": {},
   "cell_type": "markdown",
   "source": [
    "### Несколько условий\n",
    "\n",
    "Посмотрим более полную картину для операторов <code>if</code>, <code>elif</code>, и <code>else</code>!\n",
    "\n",
    "Мы напишем это в виде вложенной структуры. Обратите внимание, как в этом коде расположены <code>if</code>, <code>elif</code> и <code>else</code>. Это позволяет увидеть, какой <code>if</code> относится к какому <code>elif</code> или <code>else</code>.\n",
    "\n",
    "Также мы вспомним синтаксис сравнения значений в Python."
   ],
   "id": "63005618fa81d061"
  },
  {
   "metadata": {
    "ExecuteTime": {
     "end_time": "2025-09-23T01:48:00.505305Z",
     "start_time": "2025-09-23T01:48:00.498172Z"
    }
   },
   "cell_type": "code",
   "source": [
    "loc = \"Bank\"\n",
    "if loc == \"'Auto Shop'\":\n",
    "    print(\"Welcome to the Auto Shop!\")\n",
    "elif loc == \"Bank\":\n",
    "    print(\"Welcome to the Bank!\")\n",
    "else:\n",
    "    print(\"Where are you?\")"
   ],
   "id": "3c487d0ec19994f1",
   "outputs": [
    {
     "name": "stdout",
     "output_type": "stream",
     "text": [
      "Welcome to the Bank!\n"
     ]
    }
   ],
   "execution_count": 3
  },
  {
   "metadata": {},
   "cell_type": "markdown",
   "source": [
    "Обратите внимание на вложенные операторы <code>if</code> - они проверяются до тех пор, пока не встретится условие, которое принимает значение True. И тогда выполняется код, расположенный после этого условия.  Вы можете поместить сколько угодно операторов <code>elif</code>, прежде чем указать завершающий <code>else</code>.\n",
    "\n",
    "Рассмотрим еще два простых примера для операторов <code>if</code>, <code>elif</code> и <code>else</code>:"
   ],
   "id": "45f3dbb7b5502f68"
  }
 ],
 "metadata": {
  "kernelspec": {
   "display_name": "Python 3",
   "language": "python",
   "name": "python3"
  },
  "language_info": {
   "codemirror_mode": {
    "name": "ipython",
    "version": 2
   },
   "file_extension": ".py",
   "mimetype": "text/x-python",
   "name": "python",
   "nbconvert_exporter": "python",
   "pygments_lexer": "ipython2",
   "version": "2.7.6"
  }
 },
 "nbformat": 4,
 "nbformat_minor": 5
}
