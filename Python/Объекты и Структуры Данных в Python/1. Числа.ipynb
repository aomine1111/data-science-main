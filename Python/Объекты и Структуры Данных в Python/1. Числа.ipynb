{
 "cells": [
  {
   "metadata": {},
   "cell_type": "markdown",
   "source": "# Числа в Python!\n",
   "id": "8e8fd3bb23703652"
  },
  {
   "metadata": {},
   "cell_type": "markdown",
   "source": [
    "## Типы чисел\n",
    "\n",
    "Integers - это целые числа, положительные или отрицательные. Например 2 и -2\n",
    "\n",
    "Floating point numbers - это числа с плавающей точкой. Например 2.0 или -2.1"
   ],
   "id": "2e2213139649fce7"
  },
  {
   "metadata": {},
   "cell_type": "markdown",
   "source": [
    "<table>\n",
    "<tr>\n",
    "    <th>Примеры</th>\n",
    "    <th>\"Тип\" числа</th>\n",
    "</tr>\n",
    "\n",
    "<tr>\n",
    "    <td>1,2,-5,1000</td>\n",
    "    <td>Целые числа<br>(Integers)</td>\n",
    "</tr>\n",
    "\n",
    "<tr>\n",
    "    <td>1.2,-0.5,2e2,3E2</td>\n",
    "    <td>Числа с плавающей точкой<br>(Floating-point numbers)</td>\n",
    "</tr>\n",
    " </table>"
   ],
   "id": "4ef06751d0e7c65a"
  },
  {
   "metadata": {},
   "cell_type": "markdown",
   "source": "### Основные арифметические действия",
   "id": "621c8b2d434a9c41"
  },
  {
   "metadata": {
    "ExecuteTime": {
     "end_time": "2025-09-09T13:05:52.271538Z",
     "start_time": "2025-09-09T13:05:52.250611Z"
    }
   },
   "cell_type": "code",
   "source": [
    "# Сложение\n",
    "2 + 1"
   ],
   "id": "69fe220699a783b0",
   "outputs": [
    {
     "data": {
      "text/plain": [
       "3"
      ]
     },
     "execution_count": 1,
     "metadata": {},
     "output_type": "execute_result"
    }
   ],
   "execution_count": 1
  },
  {
   "metadata": {
    "ExecuteTime": {
     "end_time": "2025-09-09T13:06:29.711516Z",
     "start_time": "2025-09-09T13:06:29.706160Z"
    }
   },
   "cell_type": "code",
   "source": [
    "# Вычитание\n",
    "2 - 1"
   ],
   "id": "fc5dfabc6b95c998",
   "outputs": [
    {
     "data": {
      "text/plain": [
       "1"
      ]
     },
     "execution_count": 2,
     "metadata": {},
     "output_type": "execute_result"
    }
   ],
   "execution_count": 2
  },
  {
   "metadata": {
    "ExecuteTime": {
     "end_time": "2025-09-09T13:06:47.558951Z",
     "start_time": "2025-09-09T13:06:47.553667Z"
    }
   },
   "cell_type": "code",
   "source": [
    "# Умножение\n",
    "2 * 2"
   ],
   "id": "81fa9716d7be66c0",
   "outputs": [
    {
     "data": {
      "text/plain": [
       "4"
      ]
     },
     "execution_count": 3,
     "metadata": {},
     "output_type": "execute_result"
    }
   ],
   "execution_count": 3
  },
  {
   "metadata": {
    "ExecuteTime": {
     "end_time": "2025-09-09T13:07:11.184987Z",
     "start_time": "2025-09-09T13:07:11.178737Z"
    }
   },
   "cell_type": "code",
   "source": [
    "# Деление\n",
    "3/2"
   ],
   "id": "b0c0b8b794b2cfe4",
   "outputs": [
    {
     "data": {
      "text/plain": [
       "1.5"
      ]
     },
     "execution_count": 4,
     "metadata": {},
     "output_type": "execute_result"
    }
   ],
   "execution_count": 4
  },
  {
   "metadata": {
    "ExecuteTime": {
     "end_time": "2025-09-09T13:08:14.901562Z",
     "start_time": "2025-09-09T13:08:14.895904Z"
    }
   },
   "cell_type": "code",
   "source": [
    "#Целочисленное деление (Floor Division)\n",
    "7//4"
   ],
   "id": "131aaae6134a51d1",
   "outputs": [
    {
     "data": {
      "text/plain": [
       "1"
      ]
     },
     "execution_count": 6,
     "metadata": {},
     "output_type": "execute_result"
    }
   ],
   "execution_count": 6
  },
  {
   "metadata": {},
   "cell_type": "markdown",
   "source": "Дело в том, что здесь мы используем \"*целочисленное*\" деление. Оператор // (два прямых слеша) отбрасывает дробную часть без округления, и мы получаем целое число.",
   "id": "14bab9d4dda508bb"
  },
  {
   "metadata": {
    "ExecuteTime": {
     "end_time": "2025-09-09T13:09:08.280978Z",
     "start_time": "2025-09-09T13:09:08.275775Z"
    }
   },
   "cell_type": "code",
   "source": [
    "# Остаток\n",
    "7%4"
   ],
   "id": "e0ea6f0d583df88b",
   "outputs": [
    {
     "data": {
      "text/plain": [
       "3"
      ]
     },
     "execution_count": 7,
     "metadata": {},
     "output_type": "execute_result"
    }
   ],
   "execution_count": 7
  },
  {
   "metadata": {
    "ExecuteTime": {
     "end_time": "2025-09-09T13:09:47.454002Z",
     "start_time": "2025-09-09T13:09:47.446958Z"
    }
   },
   "cell_type": "code",
   "source": [
    "# Возведение в степень\n",
    "2**3"
   ],
   "id": "85d60389eefbfcc5",
   "outputs": [
    {
     "data": {
      "text/plain": [
       "8"
      ]
     },
     "execution_count": 8,
     "metadata": {},
     "output_type": "execute_result"
    }
   ],
   "execution_count": 8
  },
  {
   "metadata": {
    "ExecuteTime": {
     "end_time": "2025-09-09T13:10:34.740609Z",
     "start_time": "2025-09-09T13:10:34.735455Z"
    }
   },
   "cell_type": "code",
   "source": [
    "# Этим же способом можно извлекать корень\n",
    "4**0.5"
   ],
   "id": "ad5312e2699a8a9",
   "outputs": [
    {
     "data": {
      "text/plain": [
       "2.0"
      ]
     },
     "execution_count": 9,
     "metadata": {},
     "output_type": "execute_result"
    }
   ],
   "execution_count": 9
  },
  {
   "metadata": {
    "ExecuteTime": {
     "end_time": "2025-09-09T13:13:09.944854Z",
     "start_time": "2025-09-09T13:13:09.939248Z"
    }
   },
   "cell_type": "code",
   "source": [
    "# В Python соблюдается порядок операций - например, умножение выполняется раньше, чем сложение\n",
    "2 + 10 * 10 + 3"
   ],
   "id": "d433efb1f499685",
   "outputs": [
    {
     "data": {
      "text/plain": [
       "105"
      ]
     },
     "execution_count": 10,
     "metadata": {},
     "output_type": "execute_result"
    }
   ],
   "execution_count": 10
  }
 ],
 "metadata": {
  "kernelspec": {
   "display_name": "Python 3",
   "language": "python",
   "name": "python3"
  },
  "language_info": {
   "codemirror_mode": {
    "name": "ipython",
    "version": 2
   },
   "file_extension": ".py",
   "mimetype": "text/x-python",
   "name": "python",
   "nbconvert_exporter": "python",
   "pygments_lexer": "ipython2",
   "version": "2.7.6"
  }
 },
 "nbformat": 4,
 "nbformat_minor": 5
}
