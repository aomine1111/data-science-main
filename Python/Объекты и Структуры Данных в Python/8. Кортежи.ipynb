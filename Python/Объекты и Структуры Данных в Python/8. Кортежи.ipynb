{
 "cells": [
  {
   "metadata": {},
   "cell_type": "markdown",
   "source": [
    "# Кортежи (Tuples)\n",
    "\n",
    "В Python кортежи (tuples) очень похожи на списки. Однако, в отличие от списков, они неизменяемы (*immutable*), то есть их нельзя поменять. Кортежи удобно использовать для элементов, которые не должны меняться, например дни недели и даты в календаре.\n",
    "\n",
    "## Создание кортежей\n",
    "\n",
    "Для создания кортежа используются круглые скобки (), внутри которых элементы отделяются друг от друга запятыми. Например:"
   ],
   "id": "7fececf7134d3bee"
  },
  {
   "metadata": {
    "ExecuteTime": {
     "end_time": "2025-09-21T11:47:49.497959Z",
     "start_time": "2025-09-21T11:47:49.492516Z"
    }
   },
   "cell_type": "code",
   "source": [
    "# Создаем кортеж\n",
    "t = (1,2,3)"
   ],
   "id": "8ac2b3e7f53d2d6a",
   "outputs": [],
   "execution_count": 1
  },
  {
   "metadata": {
    "ExecuteTime": {
     "end_time": "2025-09-21T11:48:02.938602Z",
     "start_time": "2025-09-21T11:48:02.931035Z"
    }
   },
   "cell_type": "code",
   "source": [
    "# Проверяем длину с помощью len, как и для списков\n",
    "len(t)"
   ],
   "id": "a39e68a2eb321e6e",
   "outputs": [
    {
     "data": {
      "text/plain": [
       "3"
      ]
     },
     "execution_count": 2,
     "metadata": {},
     "output_type": "execute_result"
    }
   ],
   "execution_count": 2
  },
  {
   "metadata": {
    "ExecuteTime": {
     "end_time": "2025-09-21T11:48:47.628710Z",
     "start_time": "2025-09-21T11:48:47.622697Z"
    }
   },
   "cell_type": "code",
   "source": [
    "# Также можно смешивать различные типы объектов\n",
    "t = (\"one\",2)\n",
    "t"
   ],
   "id": "50ce85e665fcee71",
   "outputs": [
    {
     "data": {
      "text/plain": [
       "('one', 2)"
      ]
     },
     "execution_count": 3,
     "metadata": {},
     "output_type": "execute_result"
    }
   ],
   "execution_count": 3
  },
  {
   "metadata": {
    "ExecuteTime": {
     "end_time": "2025-09-21T11:50:19.081120Z",
     "start_time": "2025-09-21T11:50:19.076080Z"
    }
   },
   "cell_type": "code",
   "source": [
    "# Используем индексы так же, как и в списках\n",
    "t[0]"
   ],
   "id": "10f7eabd453bbca8",
   "outputs": [
    {
     "data": {
      "text/plain": [
       "'one'"
      ]
     },
     "execution_count": 4,
     "metadata": {},
     "output_type": "execute_result"
    }
   ],
   "execution_count": 4
  },
  {
   "metadata": {
    "ExecuteTime": {
     "end_time": "2025-09-21T11:50:31.256553Z",
     "start_time": "2025-09-21T11:50:31.251097Z"
    }
   },
   "cell_type": "code",
   "source": [
    "# Аналогично спискам\n",
    "t[-1]"
   ],
   "id": "d83b95342e2fd2ae",
   "outputs": [
    {
     "data": {
      "text/plain": [
       "2"
      ]
     },
     "execution_count": 5,
     "metadata": {},
     "output_type": "execute_result"
    }
   ],
   "execution_count": 5
  },
  {
   "metadata": {},
   "cell_type": "markdown",
   "source": [
    "## Основные методы для кортежей\n",
    "\n",
    "Кортежи имеют встроенные методы, но их меньше, чем для списков. Посмотрим на два из них:"
   ],
   "id": "2a1ac34684460b44"
  },
  {
   "metadata": {
    "ExecuteTime": {
     "end_time": "2025-09-21T11:52:38.317102Z",
     "start_time": "2025-09-21T11:52:38.311470Z"
    }
   },
   "cell_type": "code",
   "source": [
    "# Используйте .index, чтобы указать значение и узнать его позицию (индекс) в кортеже\n",
    "# Помните, что индексация начинается с нуля\n",
    "t.index(\"one\")"
   ],
   "id": "d5851d7bff9050c1",
   "outputs": [
    {
     "data": {
      "text/plain": [
       "0"
      ]
     },
     "execution_count": 7,
     "metadata": {},
     "output_type": "execute_result"
    }
   ],
   "execution_count": 7
  },
  {
   "metadata": {
    "ExecuteTime": {
     "end_time": "2025-09-21T11:53:26.834115Z",
     "start_time": "2025-09-21T11:53:26.828566Z"
    }
   },
   "cell_type": "code",
   "source": [
    "# Используйте .count, чтобы посчитать, сколько раз встречается значение\n",
    "t.count('one')"
   ],
   "id": "ba9ea09eeb9cb2a2",
   "outputs": [
    {
     "data": {
      "text/plain": [
       "1"
      ]
     },
     "execution_count": 8,
     "metadata": {},
     "output_type": "execute_result"
    }
   ],
   "execution_count": 8
  },
  {
   "metadata": {},
   "cell_type": "markdown",
   "source": [
    "## Неизменность (Immutability)\n",
    "\n",
    "Еще раз повторимся, что кортежи являются неизменными. Давайте это проверим:"
   ],
   "id": "407b7f555e056594"
  },
  {
   "metadata": {
    "ExecuteTime": {
     "end_time": "2025-09-21T11:54:40.103861Z",
     "start_time": "2025-09-21T11:54:40.076863Z"
    }
   },
   "cell_type": "code",
   "source": "t[0] = \"change\"",
   "id": "ea02fd126bc1a0cf",
   "outputs": [
    {
     "ename": "TypeError",
     "evalue": "'tuple' object does not support item assignment",
     "output_type": "error",
     "traceback": [
      "\u001B[31m---------------------------------------------------------------------------\u001B[39m",
      "\u001B[31mTypeError\u001B[39m                                 Traceback (most recent call last)",
      "\u001B[36mCell\u001B[39m\u001B[36m \u001B[39m\u001B[32mIn[9]\u001B[39m\u001B[32m, line 1\u001B[39m\n\u001B[32m----> \u001B[39m\u001B[32m1\u001B[39m \u001B[43mt\u001B[49m\u001B[43m[\u001B[49m\u001B[32;43m0\u001B[39;49m\u001B[43m]\u001B[49m = \u001B[33m\"\u001B[39m\u001B[33mchange\u001B[39m\u001B[33m\"\u001B[39m\n",
      "\u001B[31mTypeError\u001B[39m: 'tuple' object does not support item assignment"
     ]
    }
   ],
   "execution_count": 9
  },
  {
   "metadata": {},
   "cell_type": "markdown",
   "source": "Благодаря неизменности, кортежи не могут увеличиваться. Как только кортеж создан, в него нельзя добавить элементы.",
   "id": "7de8d9e7cbf42678"
  },
  {
   "metadata": {
    "ExecuteTime": {
     "end_time": "2025-09-21T11:54:57.989832Z",
     "start_time": "2025-09-21T11:54:57.938122Z"
    }
   },
   "cell_type": "code",
   "source": "t.append('nope')",
   "id": "aa5545d7a78b67c",
   "outputs": [
    {
     "ename": "AttributeError",
     "evalue": "'tuple' object has no attribute 'append'",
     "output_type": "error",
     "traceback": [
      "\u001B[31m---------------------------------------------------------------------------\u001B[39m",
      "\u001B[31mAttributeError\u001B[39m                            Traceback (most recent call last)",
      "\u001B[36mCell\u001B[39m\u001B[36m \u001B[39m\u001B[32mIn[10]\u001B[39m\u001B[32m, line 1\u001B[39m\n\u001B[32m----> \u001B[39m\u001B[32m1\u001B[39m \u001B[43mt\u001B[49m\u001B[43m.\u001B[49m\u001B[43mappend\u001B[49m(\u001B[33m'\u001B[39m\u001B[33mnope\u001B[39m\u001B[33m'\u001B[39m)\n",
      "\u001B[31mAttributeError\u001B[39m: 'tuple' object has no attribute 'append'"
     ]
    }
   ],
   "execution_count": 10
  }
 ],
 "metadata": {
  "kernelspec": {
   "display_name": "Python 3",
   "language": "python",
   "name": "python3"
  },
  "language_info": {
   "codemirror_mode": {
    "name": "ipython",
    "version": 2
   },
   "file_extension": ".py",
   "mimetype": "text/x-python",
   "name": "python",
   "nbconvert_exporter": "python",
   "pygments_lexer": "ipython2",
   "version": "2.7.6"
  }
 },
 "nbformat": 4,
 "nbformat_minor": 5
}
