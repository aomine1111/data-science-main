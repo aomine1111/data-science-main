{
 "cells": [
  {
   "metadata": {},
   "cell_type": "markdown",
   "source": "# Множества (Sets) и логический тип Boolean",
   "id": "a15d49bfd382890"
  },
  {
   "metadata": {},
   "cell_type": "markdown",
   "source": [
    "## Множества (Sets)\n",
    "\n",
    "Множества это неупорядоченный набор *уникальных* элементов. Мы можем создать их с помощью функции set(). Давайте создадим множество и посмотрим, как они работают"
   ],
   "id": "70760321daf6c5d5"
  },
  {
   "metadata": {
    "ExecuteTime": {
     "end_time": "2025-09-18T12:39:49.333884Z",
     "start_time": "2025-09-18T12:39:49.326137Z"
    }
   },
   "cell_type": "code",
   "source": "x = set()",
   "id": "4b6fe7030f734205",
   "outputs": [],
   "execution_count": 1
  },
  {
   "metadata": {
    "ExecuteTime": {
     "end_time": "2025-09-18T12:39:49.406245Z",
     "start_time": "2025-09-18T12:39:49.401420Z"
    }
   },
   "cell_type": "code",
   "source": [
    "# Мы добавляем элементы в множество с помощью add()\n",
    "x.add(1)"
   ],
   "id": "16f8a784b8cf7ab4",
   "outputs": [],
   "execution_count": 2
  },
  {
   "metadata": {
    "ExecuteTime": {
     "end_time": "2025-09-18T12:39:49.426351Z",
     "start_time": "2025-09-18T12:39:49.419019Z"
    }
   },
   "cell_type": "code",
   "source": [
    "#Проверка\n",
    "x"
   ],
   "id": "70a2fd4095ea820",
   "outputs": [
    {
     "data": {
      "text/plain": [
       "{1}"
      ]
     },
     "execution_count": 3,
     "metadata": {},
     "output_type": "execute_result"
    }
   ],
   "execution_count": 3
  },
  {
   "metadata": {
    "ExecuteTime": {
     "end_time": "2025-09-18T12:43:00.857634Z",
     "start_time": "2025-09-18T12:43:00.851930Z"
    }
   },
   "cell_type": "code",
   "source": [
    "# Добавляем второй элемент\n",
    "x.add(2)"
   ],
   "id": "f1ef28dd293c986a",
   "outputs": [],
   "execution_count": 5
  },
  {
   "metadata": {
    "ExecuteTime": {
     "end_time": "2025-09-18T12:43:01.973646Z",
     "start_time": "2025-09-18T12:43:01.958123Z"
    }
   },
   "cell_type": "code",
   "source": [
    "# Проверка\n",
    "x"
   ],
   "id": "78ec0d0566c7d003",
   "outputs": [
    {
     "data": {
      "text/plain": [
       "{1, 2}"
      ]
     },
     "execution_count": 6,
     "metadata": {},
     "output_type": "execute_result"
    }
   ],
   "execution_count": 6
  },
  {
   "metadata": {
    "ExecuteTime": {
     "end_time": "2025-09-18T12:43:13.196180Z",
     "start_time": "2025-09-18T12:43:13.189619Z"
    }
   },
   "cell_type": "code",
   "source": [
    "# Попытаемся добавить первый элемент еще раз\n",
    "x.add(1)"
   ],
   "id": "bd1a4289e58307a",
   "outputs": [],
   "execution_count": 7
  },
  {
   "metadata": {
    "ExecuteTime": {
     "end_time": "2025-09-18T12:43:37.158111Z",
     "start_time": "2025-09-18T12:43:37.147972Z"
    }
   },
   "cell_type": "code",
   "source": [
    "# Проверка\n",
    "x"
   ],
   "id": "4c040d96bc2f3fd2",
   "outputs": [
    {
     "data": {
      "text/plain": [
       "{1, 2}"
      ]
     },
     "execution_count": 8,
     "metadata": {},
     "output_type": "execute_result"
    }
   ],
   "execution_count": 8
  },
  {
   "metadata": {},
   "cell_type": "markdown",
   "source": "Обратите внимание, что ещё одна единица не была добавлена. Это потому, что множество содержит только уникальные элементы! Так что мы можем, например, взять список и привести его к множеству, чтобы получить уникальные элементы:",
   "id": "edd3dcadc219a856"
  },
  {
   "metadata": {
    "ExecuteTime": {
     "end_time": "2025-09-18T12:44:17.035127Z",
     "start_time": "2025-09-18T12:44:17.030129Z"
    }
   },
   "cell_type": "code",
   "source": [
    "# Создаем список с повторяющимися значениями\n",
    "list1 = [1,1,2,2,3,4,5,6,1,1]"
   ],
   "id": "4924f7555f3db94",
   "outputs": [],
   "execution_count": 9
  },
  {
   "metadata": {
    "ExecuteTime": {
     "end_time": "2025-09-18T12:44:28.441337Z",
     "start_time": "2025-09-18T12:44:28.435502Z"
    }
   },
   "cell_type": "code",
   "source": "set(list1)",
   "id": "6042d01ebb5bfd0b",
   "outputs": [
    {
     "data": {
      "text/plain": [
       "{1, 2, 3, 4, 5, 6}"
      ]
     },
     "execution_count": 10,
     "metadata": {},
     "output_type": "execute_result"
    }
   ],
   "execution_count": 10
  },
  {
   "metadata": {},
   "cell_type": "markdown",
   "source": [
    "## Логический тип (Boolean)\n",
    "\n",
    "В Python есть логический тип Boolean, со значениями True (истинно) и False (ложно), которые по сути хранятся как числа 1 и 0. Также есть значение-placeholder под названием None.  Давайте посмотрим несколько примеров для Boolean (мы ещё рассмотрим их более подробно позднее в этом курсе)."
   ],
   "id": "d9d2090d651a3b9b"
  },
  {
   "metadata": {
    "ExecuteTime": {
     "end_time": "2025-09-18T12:48:46.509558Z",
     "start_time": "2025-09-18T12:48:46.502705Z"
    }
   },
   "cell_type": "code",
   "source": [
    "# Устанавливаем объект в значение с типом boolean\n",
    "a = True"
   ],
   "id": "f486a9d6e8f494ee",
   "outputs": [],
   "execution_count": 11
  },
  {
   "metadata": {
    "ExecuteTime": {
     "end_time": "2025-09-18T12:48:47.368257Z",
     "start_time": "2025-09-18T12:48:47.362793Z"
    }
   },
   "cell_type": "code",
   "source": [
    "# Проверка\n",
    "a"
   ],
   "id": "e52435cf0502388e",
   "outputs": [
    {
     "data": {
      "text/plain": [
       "True"
      ]
     },
     "execution_count": 12,
     "metadata": {},
     "output_type": "execute_result"
    }
   ],
   "execution_count": 12
  },
  {
   "metadata": {
    "ExecuteTime": {
     "end_time": "2025-09-18T12:49:26.204653Z",
     "start_time": "2025-09-18T12:49:26.199131Z"
    }
   },
   "cell_type": "code",
   "source": [
    "# Результат это boolean\n",
    "1 > 2"
   ],
   "id": "951c296420c09f9e",
   "outputs": [
    {
     "data": {
      "text/plain": [
       "False"
      ]
     },
     "execution_count": 13,
     "metadata": {},
     "output_type": "execute_result"
    }
   ],
   "execution_count": 13
  },
  {
   "metadata": {},
   "cell_type": "markdown",
   "source": "Мы можем указать значение None для объекта, которому мы пока не будем присваивать новое значение:",
   "id": "d7a3a69f33137316"
  },
  {
   "metadata": {
    "ExecuteTime": {
     "end_time": "2025-09-18T12:50:37.991608Z",
     "start_time": "2025-09-18T12:50:37.985597Z"
    }
   },
   "cell_type": "code",
   "source": "b = None",
   "id": "3f960c87b5b9ab40",
   "outputs": [],
   "execution_count": 14
  },
  {
   "metadata": {
    "ExecuteTime": {
     "end_time": "2025-09-18T12:50:44.388453Z",
     "start_time": "2025-09-18T12:50:44.383644Z"
    }
   },
   "cell_type": "code",
   "source": [
    "# Проверка\n",
    "print(b)"
   ],
   "id": "84a21aac0af63b81",
   "outputs": [
    {
     "name": "stdout",
     "output_type": "stream",
     "text": [
      "None\n"
     ]
    }
   ],
   "execution_count": 15
  }
 ],
 "metadata": {
  "kernelspec": {
   "display_name": "Python 3",
   "language": "python",
   "name": "python3"
  },
  "language_info": {
   "codemirror_mode": {
    "name": "ipython",
    "version": 2
   },
   "file_extension": ".py",
   "mimetype": "text/x-python",
   "name": "python",
   "nbconvert_exporter": "python",
   "pygments_lexer": "ipython2",
   "version": "2.7.6"
  }
 },
 "nbformat": 4,
 "nbformat_minor": 5
}
