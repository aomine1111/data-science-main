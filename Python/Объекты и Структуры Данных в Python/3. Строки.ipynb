{
 "cells": [
  {
   "metadata": {},
   "cell_type": "markdown",
   "source": [
    "# Строки (Strings)\n",
    "\n",
    "Строки используются в Python для хранения текстовой информации. Строки в Python являются последовательностью (*sequence*), то есть Python хранит каждый элемент строки в определенном порядке. Например, строка \"hello' - это последовательность символов в определенном порядке. Это значит, что мы можем использовать индексы, чтобы получить отдельные буквы (например, первую буквы или последнюю букву)"
   ],
   "id": "17d26bd22b50d160"
  },
  {
   "metadata": {},
   "cell_type": "markdown",
   "source": [
    "## Создание строки\n",
    "Чтобы создать строку в Python, можно использовать одинарные кавычки или двойные кавычки. Например:"
   ],
   "id": "6497cf7869bd7df3"
  },
  {
   "metadata": {
    "ExecuteTime": {
     "end_time": "2025-09-09T21:06:31.804497Z",
     "start_time": "2025-09-09T21:06:31.785223Z"
    }
   },
   "cell_type": "code",
   "source": [
    "# Одно слово\n",
    "\"HellO\""
   ],
   "id": "514844104961ed37",
   "outputs": [
    {
     "data": {
      "text/plain": [
       "'HellO'"
      ]
     },
     "execution_count": 1,
     "metadata": {},
     "output_type": "execute_result"
    }
   ],
   "execution_count": 1
  },
  {
   "metadata": {
    "ExecuteTime": {
     "end_time": "2025-09-09T21:07:06.601390Z",
     "start_time": "2025-09-09T21:07:06.595754Z"
    }
   },
   "cell_type": "code",
   "source": [
    "# Целая фраза\n",
    "\"This is also a string\""
   ],
   "id": "2ed28fd23975bec2",
   "outputs": [
    {
     "data": {
      "text/plain": [
       "'This is also a string'"
      ]
     },
     "execution_count": 2,
     "metadata": {},
     "output_type": "execute_result"
    }
   ],
   "execution_count": 2
  },
  {
   "metadata": {
    "ExecuteTime": {
     "end_time": "2025-09-09T21:07:18.805760Z",
     "start_time": "2025-09-09T21:07:18.799718Z"
    }
   },
   "cell_type": "code",
   "source": [
    "# Будьте осторожны с кавычками!\n",
    "' I'm using single quotes, but this will create an error'"
   ],
   "id": "c2be8d7289eabf1c",
   "outputs": [
    {
     "ename": "SyntaxError",
     "evalue": "unterminated string literal (detected at line 2) (947572213.py, line 2)",
     "output_type": "error",
     "traceback": [
      "  \u001B[36mCell\u001B[39m\u001B[36m \u001B[39m\u001B[32mIn[3]\u001B[39m\u001B[32m, line 2\u001B[39m\n\u001B[31m    \u001B[39m\u001B[31m' I'm using single quotes, but this will create an error'\u001B[39m\n                                                            ^\n\u001B[31mSyntaxError\u001B[39m\u001B[31m:\u001B[39m unterminated string literal (detected at line 2)\n"
     ]
    }
   ],
   "execution_count": 3
  },
  {
   "metadata": {},
   "cell_type": "markdown",
   "source": "## Основы работы со строками",
   "id": "f837766f073c8bec"
  },
  {
   "metadata": {},
   "cell_type": "markdown",
   "source": "Мы может использовать функцию len(), чтобы узнать длину строки!",
   "id": "b86fce47277382a5"
  },
  {
   "metadata": {
    "ExecuteTime": {
     "end_time": "2025-09-09T21:10:55.896757Z",
     "start_time": "2025-09-09T21:10:55.890501Z"
    }
   },
   "cell_type": "code",
   "source": "len(\"Hello Wordl\")",
   "id": "7cc3fbf5696464f1",
   "outputs": [
    {
     "data": {
      "text/plain": [
       "11"
      ]
     },
     "execution_count": 4,
     "metadata": {},
     "output_type": "execute_result"
    }
   ],
   "execution_count": 4
  },
  {
   "metadata": {},
   "cell_type": "markdown",
   "source": "Встроенная функция len() считает все символы в строке, включая пробелы и пунктуацию.",
   "id": "f851e0e8f85148bf"
  },
  {
   "metadata": {},
   "cell_type": "markdown",
   "source": [
    "## Индексирование строк\n",
    "В Python мы используем скобки <code>[]</code> после объекта, чтобы обратиться к нему по индексу. В Python индексирование начинается с 0. Давайте создадим новый объект под названием <code>s</code>, и посмотрим примеры индексирования."
   ],
   "id": "f54c31e7576b5ade"
  },
  {
   "metadata": {
    "ExecuteTime": {
     "end_time": "2025-09-16T09:58:43.608488Z",
     "start_time": "2025-09-16T09:58:43.601977Z"
    }
   },
   "cell_type": "code",
   "source": [
    "#Присвоить строку переменной s\n",
    "s = \"Hellow World\""
   ],
   "id": "30dc9ce5bdc01789",
   "outputs": [],
   "execution_count": 1
  },
  {
   "metadata": {
    "ExecuteTime": {
     "end_time": "2025-09-16T09:58:43.648987Z",
     "start_time": "2025-09-16T09:58:43.639330Z"
    }
   },
   "cell_type": "code",
   "source": "s",
   "id": "8a40000fa5101197",
   "outputs": [
    {
     "data": {
      "text/plain": [
       "'Hellow World'"
      ]
     },
     "execution_count": 2,
     "metadata": {},
     "output_type": "execute_result"
    }
   ],
   "execution_count": 2
  },
  {
   "metadata": {},
   "cell_type": "markdown",
   "source": "Теперь посмотрим индексирование!",
   "id": "c12bca4ce5d2fb24"
  },
  {
   "metadata": {
    "ExecuteTime": {
     "end_time": "2025-09-16T09:59:09.886867Z",
     "start_time": "2025-09-16T09:59:09.876952Z"
    }
   },
   "cell_type": "code",
   "source": [
    "# Показать первый элемент (в данном случае это буква)\n",
    "# Помните, что индексирование начинается с нуля. Поэтому первая буква имеет индекс 0, вторая буква индекс 1 и т.д.\n",
    "s[0]"
   ],
   "id": "b869937a41b76cd1",
   "outputs": [
    {
     "data": {
      "text/plain": [
       "'H'"
      ]
     },
     "execution_count": 3,
     "metadata": {},
     "output_type": "execute_result"
    }
   ],
   "execution_count": 3
  },
  {
   "metadata": {
    "ExecuteTime": {
     "end_time": "2025-09-16T09:59:23.319923Z",
     "start_time": "2025-09-16T09:59:23.312263Z"
    }
   },
   "cell_type": "code",
   "source": "s[1]",
   "id": "7503cc70940fadc1",
   "outputs": [
    {
     "data": {
      "text/plain": [
       "'e'"
      ]
     },
     "execution_count": 4,
     "metadata": {},
     "output_type": "execute_result"
    }
   ],
   "execution_count": 4
  },
  {
   "metadata": {
    "ExecuteTime": {
     "end_time": "2025-09-16T09:59:30.089554Z",
     "start_time": "2025-09-16T09:59:30.083691Z"
    }
   },
   "cell_type": "code",
   "source": "s[2]",
   "id": "20634e176321d52d",
   "outputs": [
    {
     "data": {
      "text/plain": [
       "'l'"
      ]
     },
     "execution_count": 5,
     "metadata": {},
     "output_type": "execute_result"
    }
   ],
   "execution_count": 5
  },
  {
   "metadata": {},
   "cell_type": "markdown",
   "source": "Мы можем использовать символ <code>:</code> для получения части строки - взять все символы до или после указанной позиции. Например:",
   "id": "9f716596b25a0f5d"
  },
  {
   "metadata": {
    "ExecuteTime": {
     "end_time": "2025-09-16T10:00:36.920307Z",
     "start_time": "2025-09-16T10:00:36.908759Z"
    }
   },
   "cell_type": "code",
   "source": [
    "# Взять всё, начиная с символа на первой позиции, и до конца строки s (равной len(s))\n",
    "s[1:]"
   ],
   "id": "295ab0ed23bbe7c4",
   "outputs": [
    {
     "data": {
      "text/plain": [
       "'ellow World'"
      ]
     },
     "execution_count": 6,
     "metadata": {},
     "output_type": "execute_result"
    }
   ],
   "execution_count": 6
  },
  {
   "metadata": {
    "ExecuteTime": {
     "end_time": "2025-09-16T10:00:54.671189Z",
     "start_time": "2025-09-16T10:00:54.662628Z"
    }
   },
   "cell_type": "code",
   "source": [
    "# Обратите внимание, что сама s не поменялась\n",
    "s"
   ],
   "id": "d2247b4bb0f9994",
   "outputs": [
    {
     "data": {
      "text/plain": [
       "'Hellow World'"
      ]
     },
     "execution_count": 7,
     "metadata": {},
     "output_type": "execute_result"
    }
   ],
   "execution_count": 7
  },
  {
   "metadata": {
    "ExecuteTime": {
     "end_time": "2025-09-16T10:01:24.569189Z",
     "start_time": "2025-09-16T10:01:24.559451Z"
    }
   },
   "cell_type": "code",
   "source": [
    "# Взять все символы ДО 3й позиции\n",
    "s[:3]"
   ],
   "id": "ab2e2e65017bb0d7",
   "outputs": [
    {
     "data": {
      "text/plain": [
       "'Hel'"
      ]
     },
     "execution_count": 8,
     "metadata": {},
     "output_type": "execute_result"
    }
   ],
   "execution_count": 8
  },
  {
   "metadata": {},
   "cell_type": "markdown",
   "source": "Обратите внимание на предыдущий пример. Мы говорим Python'у взять символы от 0 до 3. Но это не включает в себя 3ю позицию. Вы ещё не раз встретите такое поведение в Python, когда условие пишется как \"до верхней границы, но не включая её\".",
   "id": "d3208d8d018f01c"
  },
  {
   "metadata": {
    "ExecuteTime": {
     "end_time": "2025-09-16T10:02:27.532062Z",
     "start_time": "2025-09-16T10:02:27.523034Z"
    }
   },
   "cell_type": "code",
   "source": "s[:]",
   "id": "3d3283809293bc85",
   "outputs": [
    {
     "data": {
      "text/plain": [
       "'Hellow World'"
      ]
     },
     "execution_count": 9,
     "metadata": {},
     "output_type": "execute_result"
    }
   ],
   "execution_count": 9
  },
  {
   "metadata": {},
   "cell_type": "markdown",
   "source": "Также можно использовать отрицательные индексы, чтобы двигаться назад.",
   "id": "4f3f9935b426f820"
  },
  {
   "metadata": {
    "ExecuteTime": {
     "end_time": "2025-09-16T10:02:52.861123Z",
     "start_time": "2025-09-16T10:02:52.854712Z"
    }
   },
   "cell_type": "code",
   "source": [
    "# Последняя буква (на одну позицию перед 0, то есть на самом деле мы переходим к концу строки)\n",
    "s[-1]"
   ],
   "id": "8550a7cb950c1605",
   "outputs": [
    {
     "data": {
      "text/plain": [
       "'d'"
      ]
     },
     "execution_count": 10,
     "metadata": {},
     "output_type": "execute_result"
    }
   ],
   "execution_count": 10
  },
  {
   "metadata": {
    "ExecuteTime": {
     "end_time": "2025-09-16T10:03:44.068170Z",
     "start_time": "2025-09-16T10:03:44.061237Z"
    }
   },
   "cell_type": "code",
   "source": [
    "# Взять всё, кроме последней буквы\n",
    "s[:-1]"
   ],
   "id": "317f25832b9cfafc",
   "outputs": [
    {
     "data": {
      "text/plain": [
       "'Hellow Worl'"
      ]
     },
     "execution_count": 12,
     "metadata": {},
     "output_type": "execute_result"
    }
   ],
   "execution_count": 12
  },
  {
   "metadata": {},
   "cell_type": "markdown",
   "source": "Мы также можем использовать индексы, чтобы получить последовательность элементов с определенным шагом (по умолчанию шаг равен 1). Для этого пишем два двоеточия подряд, и затем число, с каким шагом мы берём элементы. Например:",
   "id": "3050c959cc776a43"
  },
  {
   "metadata": {
    "ExecuteTime": {
     "end_time": "2025-09-16T10:05:37.410855Z",
     "start_time": "2025-09-16T10:05:37.402644Z"
    }
   },
   "cell_type": "code",
   "source": [
    "# Взять всё, но идти с определенным шагом (размера 1)\n",
    "s[::1]"
   ],
   "id": "441caaee759efa8f",
   "outputs": [
    {
     "data": {
      "text/plain": [
       "'Hellow World'"
      ]
     },
     "execution_count": 13,
     "metadata": {},
     "output_type": "execute_result"
    }
   ],
   "execution_count": 13
  },
  {
   "metadata": {
    "ExecuteTime": {
     "end_time": "2025-09-16T10:06:39.996858Z",
     "start_time": "2025-09-16T10:06:39.984972Z"
    }
   },
   "cell_type": "code",
   "source": [
    "# Взять всё, но идти с определенным шагом (размера 2)\n",
    "s[::2]"
   ],
   "id": "419c3f4220fcc0d1",
   "outputs": [
    {
     "data": {
      "text/plain": [
       "'Hlo ol'"
      ]
     },
     "execution_count": 14,
     "metadata": {},
     "output_type": "execute_result"
    }
   ],
   "execution_count": 14
  },
  {
   "metadata": {
    "ExecuteTime": {
     "end_time": "2025-09-16T10:07:12.079968Z",
     "start_time": "2025-09-16T10:07:12.073225Z"
    }
   },
   "cell_type": "code",
   "source": [
    "# Вот так можно отобразить строку, начиная с конца и двигаясь к началу строки:\n",
    "s[::-1]"
   ],
   "id": "5c0435c904cca0f9",
   "outputs": [
    {
     "data": {
      "text/plain": [
       "'dlroW wolleH'"
      ]
     },
     "execution_count": 15,
     "metadata": {},
     "output_type": "execute_result"
    }
   ],
   "execution_count": 15
  },
  {
   "metadata": {},
   "cell_type": "markdown",
   "source": [
    "## Свойства строк\n",
    "Важно сказать, что строки обладают важным свойством неизменности (*immutability*). Это значит, что после того, как строка была создана, элементы внутри нее не могут быть изменены или удалены. Например:"
   ],
   "id": "484704e1d34ac5b8"
  },
  {
   "metadata": {
    "ExecuteTime": {
     "end_time": "2025-09-16T10:09:36.174003Z",
     "start_time": "2025-09-16T10:09:36.168203Z"
    }
   },
   "cell_type": "code",
   "source": "s",
   "id": "c027028ce2d30f07",
   "outputs": [
    {
     "data": {
      "text/plain": [
       "'Hellow World'"
      ]
     },
     "execution_count": 16,
     "metadata": {},
     "output_type": "execute_result"
    }
   ],
   "execution_count": 16
  },
  {
   "metadata": {
    "ExecuteTime": {
     "end_time": "2025-09-16T10:10:03.622867Z",
     "start_time": "2025-09-16T10:10:03.081808Z"
    }
   },
   "cell_type": "code",
   "source": [
    "# Попробуем поменять первую букву на 'x'\n",
    "s[0] = \"x\""
   ],
   "id": "534db2c1557d639b",
   "outputs": [
    {
     "ename": "TypeError",
     "evalue": "'str' object does not support item assignment",
     "output_type": "error",
     "traceback": [
      "\u001B[31m---------------------------------------------------------------------------\u001B[39m",
      "\u001B[31mTypeError\u001B[39m                                 Traceback (most recent call last)",
      "\u001B[36mCell\u001B[39m\u001B[36m \u001B[39m\u001B[32mIn[17]\u001B[39m\u001B[32m, line 2\u001B[39m\n\u001B[32m      1\u001B[39m \u001B[38;5;66;03m# Попробуем поменять первую букву на 'x'\u001B[39;00m\n\u001B[32m----> \u001B[39m\u001B[32m2\u001B[39m \u001B[43ms\u001B[49m\u001B[43m[\u001B[49m\u001B[32;43m0\u001B[39;49m\u001B[43m]\u001B[49m = \u001B[33m\"\u001B[39m\u001B[33mx\u001B[39m\u001B[33m\"\u001B[39m\n",
      "\u001B[31mTypeError\u001B[39m: 'str' object does not support item assignment"
     ]
    }
   ],
   "execution_count": 17
  },
  {
   "metadata": {},
   "cell_type": "markdown",
   "source": [
    "Обратите внимание, что ошибка явно указывает, что нам нельзя делать!\n",
    "\n",
    "При этом мы *можем* соединять строки (выполнять конкатенацию строк)!"
   ],
   "id": "1dd2b412a5effea9"
  },
  {
   "metadata": {
    "ExecuteTime": {
     "end_time": "2025-09-16T10:29:43.097715Z",
     "start_time": "2025-09-16T10:29:43.090673Z"
    }
   },
   "cell_type": "code",
   "source": "s + \" concatenate me! \"",
   "id": "fe1ae9b56a9443df",
   "outputs": [
    {
     "data": {
      "text/plain": [
       "'Hellow Worldconcatenate me!'"
      ]
     },
     "execution_count": 18,
     "metadata": {},
     "output_type": "execute_result"
    }
   ],
   "execution_count": 18
  },
  {
   "metadata": {
    "ExecuteTime": {
     "end_time": "2025-09-16T10:30:01.657397Z",
     "start_time": "2025-09-16T10:30:01.651363Z"
    }
   },
   "cell_type": "code",
   "source": "s = s + \" concatenate me! \"",
   "id": "49a222753101a344",
   "outputs": [],
   "execution_count": 19
  },
  {
   "metadata": {
    "ExecuteTime": {
     "end_time": "2025-09-16T10:30:09.039310Z",
     "start_time": "2025-09-16T10:30:09.034119Z"
    }
   },
   "cell_type": "code",
   "source": "s",
   "id": "e1078b075c3332f0",
   "outputs": [
    {
     "data": {
      "text/plain": [
       "'Hellow World concatenate me! '"
      ]
     },
     "execution_count": 20,
     "metadata": {},
     "output_type": "execute_result"
    }
   ],
   "execution_count": 20
  },
  {
   "metadata": {},
   "cell_type": "markdown",
   "source": "Мы можем использовать знак умножения, чтобы сделать повторения!",
   "id": "4929308683d646e7"
  },
  {
   "metadata": {
    "ExecuteTime": {
     "end_time": "2025-09-16T10:30:48.822879Z",
     "start_time": "2025-09-16T10:30:48.819047Z"
    }
   },
   "cell_type": "code",
   "source": "letter = \"z\"",
   "id": "6949119c9359bc5b",
   "outputs": [],
   "execution_count": 22
  },
  {
   "metadata": {
    "ExecuteTime": {
     "end_time": "2025-09-16T10:30:49.869857Z",
     "start_time": "2025-09-16T10:30:49.863895Z"
    }
   },
   "cell_type": "code",
   "source": "letter * 10",
   "id": "65f760b2beff5741",
   "outputs": [
    {
     "data": {
      "text/plain": [
       "'zzzzzzzzzz'"
      ]
     },
     "execution_count": 23,
     "metadata": {},
     "output_type": "execute_result"
    }
   ],
   "execution_count": 23
  },
  {
   "metadata": {},
   "cell_type": "markdown",
   "source": [
    "## Основные встроенные методы для строк\n",
    "Обычно объекты в Python имеют встроенные методы. Методы - это функции внутри объекта (мы изучим их более подробно чуть позднее), которые могут выполнять действия или команды над этим объектом.\n",
    "\n",
    "Чтобы вызвать метод, пишем точку после имени объекта, и дальше имя метода. Вот так:\n",
    "\n",
    "object.method(parameters)\n",
    "\n",
    "Параметры - это дополнительные аргументы, которые можно передать в метод. Не волнуйтесь, если сейчас это звучит расплывчато. Позже мы будем создавать свои объекты и функции!\n",
    "\n",
    "Вот несколько примеров встроенных методов для строк:"
   ],
   "id": "94f5639eaa5ccf4"
  },
  {
   "metadata": {
    "ExecuteTime": {
     "end_time": "2025-09-16T10:32:02.992754Z",
     "start_time": "2025-09-16T10:32:02.986913Z"
    }
   },
   "cell_type": "code",
   "source": "s",
   "id": "9e3cc8b3b8734542",
   "outputs": [
    {
     "data": {
      "text/plain": [
       "'Hellow World concatenate me! '"
      ]
     },
     "execution_count": 24,
     "metadata": {},
     "output_type": "execute_result"
    }
   ],
   "execution_count": 24
  },
  {
   "metadata": {
    "ExecuteTime": {
     "end_time": "2025-09-16T10:32:31.215289Z",
     "start_time": "2025-09-16T10:32:31.209534Z"
    }
   },
   "cell_type": "code",
   "source": [
    "# Перевод строки в верхний регистр\n",
    "s.upper()"
   ],
   "id": "657d7ff212873358",
   "outputs": [
    {
     "data": {
      "text/plain": [
       "'HELLOW WORLD CONCATENATE ME! '"
      ]
     },
     "execution_count": 25,
     "metadata": {},
     "output_type": "execute_result"
    }
   ],
   "execution_count": 25
  },
  {
   "metadata": {
    "ExecuteTime": {
     "end_time": "2025-09-16T10:32:51.336205Z",
     "start_time": "2025-09-16T10:32:51.330702Z"
    }
   },
   "cell_type": "code",
   "source": [
    "# Перевод строки в верхний регистр\n",
    "s.lower()"
   ],
   "id": "f388a7f2a0dac811",
   "outputs": [
    {
     "data": {
      "text/plain": [
       "'hellow world concatenate me! '"
      ]
     },
     "execution_count": 26,
     "metadata": {},
     "output_type": "execute_result"
    }
   ],
   "execution_count": 26
  },
  {
   "metadata": {
    "ExecuteTime": {
     "end_time": "2025-09-16T10:33:12.002498Z",
     "start_time": "2025-09-16T10:33:11.997377Z"
    }
   },
   "cell_type": "code",
   "source": [
    "# Разбиение строки на части, используя в качестве разделителя пробел (это разделитель по умолчанию)\n",
    "s.split()"
   ],
   "id": "589f8ec014762b09",
   "outputs": [
    {
     "data": {
      "text/plain": [
       "['Hellow', 'World', 'concatenate', 'me!']"
      ]
     },
     "execution_count": 27,
     "metadata": {},
     "output_type": "execute_result"
    }
   ],
   "execution_count": 27
  },
  {
   "metadata": {},
   "cell_type": "code",
   "outputs": [],
   "execution_count": null,
   "source": [
    "# Разбиение по указанному элементу (не включает сам элемент, по которому выполнялось разбиение)\n",
    "s.split(\"W\")"
   ],
   "id": "c500da499fc51867"
  },
  {
   "metadata": {},
   "cell_type": "markdown",
   "source": [
    "## Форматирование отображения\n",
    "Чтобы добавить объекты в определенном формате к строке, можно использовать метод .format().\n",
    "\n",
    "Это проще всего показать на примере:"
   ],
   "id": "a513a45410e8996e"
  },
  {
   "metadata": {
    "ExecuteTime": {
     "end_time": "2025-09-16T10:36:00.047293Z",
     "start_time": "2025-09-16T10:36:00.042003Z"
    }
   },
   "cell_type": "code",
   "source": [
    "name = \"Alice\"\n",
    "age = 33\n",
    "print(f\"Hello, {name}! You are {age} years old.\")"
   ],
   "id": "7ec7eab7c1ad419d",
   "outputs": [
    {
     "name": "stdout",
     "output_type": "stream",
     "text": [
      "Hello, Alice! You are 33 years old.\n"
     ]
    }
   ],
   "execution_count": 28
  }
 ],
 "metadata": {
  "kernelspec": {
   "display_name": "Python 3",
   "language": "python",
   "name": "python3"
  },
  "language_info": {
   "codemirror_mode": {
    "name": "ipython",
    "version": 2
   },
   "file_extension": ".py",
   "mimetype": "text/x-python",
   "name": "python",
   "nbconvert_exporter": "python",
   "pygments_lexer": "ipython2",
   "version": "2.7.6"
  }
 },
 "nbformat": 4,
 "nbformat_minor": 5
}
