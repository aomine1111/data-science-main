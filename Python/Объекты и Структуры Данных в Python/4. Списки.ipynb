{
 "cells": [
  {
   "metadata": {},
   "cell_type": "code",
   "outputs": [],
   "execution_count": null,
   "source": "",
   "id": "329516183a40fcc4"
  },
  {
   "metadata": {},
   "cell_type": "markdown",
   "source": [
    "# Списки (Lists)\n",
    "Списки создаются с помощью скобок [ ], элементы списка отделяются друг от друга запятыми.\n"
   ],
   "id": "de413094996c53f2"
  },
  {
   "metadata": {},
   "cell_type": "code",
   "outputs": [],
   "execution_count": null,
   "source": [
    "# Присвоить переменной my_list список\n",
    "my_list = [1,2,3]"
   ],
   "id": "a233495bdfe92c3d"
  },
  {
   "metadata": {},
   "cell_type": "markdown",
   "source": "Мы создали список целых чисел, но на самом деле списки могут содержать элементы разных типов. Например:",
   "id": "fdf6c163c60cb16"
  },
  {
   "metadata": {
    "ExecuteTime": {
     "end_time": "2025-09-16T10:42:21.916873Z",
     "start_time": "2025-09-16T10:42:21.911456Z"
    }
   },
   "cell_type": "code",
   "source": "my_list = ['A string',23,100.232,'o']",
   "id": "250798db9c44d625",
   "outputs": [],
   "execution_count": 1
  },
  {
   "metadata": {},
   "cell_type": "markdown",
   "source": "Как и для строк, узнать количество элементов в списке можно с помощью функции len().",
   "id": "6ba08b6e7b8998db"
  },
  {
   "metadata": {
    "ExecuteTime": {
     "end_time": "2025-09-16T10:42:35.876288Z",
     "start_time": "2025-09-16T10:42:35.867056Z"
    }
   },
   "cell_type": "code",
   "source": "len(my_list)",
   "id": "cb11f3d7eacc6362",
   "outputs": [
    {
     "data": {
      "text/plain": [
       "4"
      ]
     },
     "execution_count": 2,
     "metadata": {},
     "output_type": "execute_result"
    }
   ],
   "execution_count": 2
  },
  {
   "metadata": {},
   "cell_type": "markdown",
   "source": [
    "### Индексирование и разбиение на части\n",
    "Индексирование и разбиение на части работает точно так же, как и для строк. Давайте создадим новый список и напомним себе, как это работает:"
   ],
   "id": "9792be2a86b004a"
  },
  {
   "metadata": {
    "ExecuteTime": {
     "end_time": "2025-09-16T10:44:48.147740Z",
     "start_time": "2025-09-16T10:44:48.142616Z"
    }
   },
   "cell_type": "code",
   "source": "my_list = [\"one\",\"two\",\"three\",4,5]",
   "id": "78d782f620772566",
   "outputs": [],
   "execution_count": 3
  },
  {
   "metadata": {
    "ExecuteTime": {
     "end_time": "2025-09-16T10:44:59.177621Z",
     "start_time": "2025-09-16T10:44:59.171948Z"
    }
   },
   "cell_type": "code",
   "source": [
    "# Берём элемент на позиции 0\n",
    "my_list[0]"
   ],
   "id": "e15d0ccec8f49ebd",
   "outputs": [
    {
     "data": {
      "text/plain": [
       "'one'"
      ]
     },
     "execution_count": 4,
     "metadata": {},
     "output_type": "execute_result"
    }
   ],
   "execution_count": 4
  },
  {
   "metadata": {
    "ExecuteTime": {
     "end_time": "2025-09-16T10:48:26.880982Z",
     "start_time": "2025-09-16T10:48:26.875089Z"
    }
   },
   "cell_type": "code",
   "source": [
    "# Берём позицию 1 и всё что после нее\n",
    "my_list[1:]"
   ],
   "id": "6aa46a6acebbc77a",
   "outputs": [
    {
     "data": {
      "text/plain": [
       "['two', 'three', 4, 5]"
      ]
     },
     "execution_count": 6,
     "metadata": {},
     "output_type": "execute_result"
    }
   ],
   "execution_count": 6
  },
  {
   "metadata": {
    "ExecuteTime": {
     "end_time": "2025-09-16T10:48:34.147573Z",
     "start_time": "2025-09-16T10:48:34.142073Z"
    }
   },
   "cell_type": "code",
   "source": [
    "# Берём всё ДО позиции 3\n",
    "my_list[:3]"
   ],
   "id": "9e774f5c4eae0109",
   "outputs": [
    {
     "data": {
      "text/plain": [
       "['one', 'two', 'three']"
      ]
     },
     "execution_count": 7,
     "metadata": {},
     "output_type": "execute_result"
    }
   ],
   "execution_count": 7
  },
  {
   "metadata": {},
   "cell_type": "markdown",
   "source": "Как и для строк, для списков можно использовать + для конкатенации списков.",
   "id": "f1af0335fe2a0ece"
  },
  {
   "metadata": {
    "ExecuteTime": {
     "end_time": "2025-09-16T10:55:39.072184Z",
     "start_time": "2025-09-16T10:55:39.065889Z"
    }
   },
   "cell_type": "code",
   "source": "my_list + [\"new ite,\"]",
   "id": "9316641883029890",
   "outputs": [
    {
     "data": {
      "text/plain": [
       "['one', 'two', 'three', 4, 5, 'new ite,']"
      ]
     },
     "execution_count": 8,
     "metadata": {},
     "output_type": "execute_result"
    }
   ],
   "execution_count": 8
  },
  {
   "metadata": {},
   "cell_type": "markdown",
   "source": "Обратите внимание: сам список my_list при этом не поменялся!",
   "id": "a10d0c5ae4fe0d3c"
  },
  {
   "metadata": {
    "ExecuteTime": {
     "end_time": "2025-09-16T10:56:09.149173Z",
     "start_time": "2025-09-16T10:56:09.142774Z"
    }
   },
   "cell_type": "code",
   "source": "my_list",
   "id": "6eb9dfa38e6db03f",
   "outputs": [
    {
     "data": {
      "text/plain": [
       "['one', 'two', 'three', 4, 5]"
      ]
     },
     "execution_count": 9,
     "metadata": {},
     "output_type": "execute_result"
    }
   ],
   "execution_count": 9
  },
  {
   "metadata": {},
   "cell_type": "markdown",
   "source": "Если нужно поменять изначальный список, то можно переопределить список.",
   "id": "165a136864c6a6bc"
  },
  {
   "metadata": {
    "ExecuteTime": {
     "end_time": "2025-09-16T11:00:05.944394Z",
     "start_time": "2025-09-16T11:00:05.939040Z"
    }
   },
   "cell_type": "code",
   "source": "my_list = my_list + ['add new item permanently']",
   "id": "2b204b6407a3bc33",
   "outputs": [],
   "execution_count": 10
  },
  {
   "metadata": {
    "ExecuteTime": {
     "end_time": "2025-09-16T11:00:07.501842Z",
     "start_time": "2025-09-16T11:00:07.495865Z"
    }
   },
   "cell_type": "code",
   "source": "my_list",
   "id": "a865792ad5d50c42",
   "outputs": [
    {
     "data": {
      "text/plain": [
       "['one', 'two', 'three', 4, 5, 'add new item permanently']"
      ]
     },
     "execution_count": 11,
     "metadata": {},
     "output_type": "execute_result"
    }
   ],
   "execution_count": 11
  },
  {
   "metadata": {},
   "cell_type": "markdown",
   "source": "Также можно использовать * для дублирования, как и для строк:",
   "id": "151af8aaf826b308"
  },
  {
   "metadata": {
    "ExecuteTime": {
     "end_time": "2025-09-16T11:02:42.676844Z",
     "start_time": "2025-09-16T11:02:42.671007Z"
    }
   },
   "cell_type": "code",
   "source": "my_list * 2",
   "id": "7803012e85226467",
   "outputs": [
    {
     "data": {
      "text/plain": [
       "['one',\n",
       " 'two',\n",
       " 'three',\n",
       " 4,\n",
       " 5,\n",
       " 'add new item permanently',\n",
       " 'one',\n",
       " 'two',\n",
       " 'three',\n",
       " 4,\n",
       " 5,\n",
       " 'add new item permanently']"
      ]
     },
     "execution_count": 12,
     "metadata": {},
     "output_type": "execute_result"
    }
   ],
   "execution_count": 12
  },
  {
   "metadata": {},
   "cell_type": "markdown",
   "source": "## Основные методы для списков",
   "id": "339fbfe4a4b6cea5"
  },
  {
   "metadata": {
    "ExecuteTime": {
     "end_time": "2025-09-16T11:06:19.438167Z",
     "start_time": "2025-09-16T11:06:19.433451Z"
    }
   },
   "cell_type": "code",
   "source": "list1 = [1,2,3]",
   "id": "ab2cdd89191cae59",
   "outputs": [],
   "execution_count": 14
  },
  {
   "metadata": {},
   "cell_type": "markdown",
   "source": "Метод **append** добавляет новый элемент в конец списка:",
   "id": "9b5771a316b32a48"
  },
  {
   "metadata": {
    "ExecuteTime": {
     "end_time": "2025-09-16T11:06:20.263191Z",
     "start_time": "2025-09-16T11:06:20.258226Z"
    }
   },
   "cell_type": "code",
   "source": "list1.append(\"append me\")",
   "id": "b0ca52e768b25b95",
   "outputs": [],
   "execution_count": 15
  },
  {
   "metadata": {
    "ExecuteTime": {
     "end_time": "2025-09-16T11:06:21.142749Z",
     "start_time": "2025-09-16T11:06:21.136407Z"
    }
   },
   "cell_type": "code",
   "source": "list1",
   "id": "1747c1d62ba459a3",
   "outputs": [
    {
     "data": {
      "text/plain": [
       "[1, 2, 3, 'append me']"
      ]
     },
     "execution_count": 16,
     "metadata": {},
     "output_type": "execute_result"
    }
   ],
   "execution_count": 16
  },
  {
   "metadata": {},
   "cell_type": "markdown",
   "source": "Метод **pop** \"вынимает\" элемент из списка. По умолчанию вынимается последний элемент, но Вы также можете указать позицию, с которой нужно вынуть элемент. Рассмотрим пример:",
   "id": "d14f7e30043bf975"
  },
  {
   "metadata": {
    "ExecuteTime": {
     "end_time": "2025-09-16T11:08:48.889674Z",
     "start_time": "2025-09-16T11:08:48.884267Z"
    }
   },
   "cell_type": "code",
   "source": [
    "# Вынимаем элемент на позиции 0\n",
    "list1.pop(0)"
   ],
   "id": "2f07a9959a76bd35",
   "outputs": [
    {
     "data": {
      "text/plain": [
       "1"
      ]
     },
     "execution_count": 17,
     "metadata": {},
     "output_type": "execute_result"
    }
   ],
   "execution_count": 17
  },
  {
   "metadata": {
    "ExecuteTime": {
     "end_time": "2025-09-16T11:14:16.226979Z",
     "start_time": "2025-09-16T11:14:16.220740Z"
    }
   },
   "cell_type": "code",
   "source": [
    "# Проверка\n",
    "list1"
   ],
   "id": "cf22cb305f401af5",
   "outputs": [
    {
     "data": {
      "text/plain": [
       "[2, 3, 'append me']"
      ]
     },
     "execution_count": 19,
     "metadata": {},
     "output_type": "execute_result"
    }
   ],
   "execution_count": 19
  },
  {
   "metadata": {
    "ExecuteTime": {
     "end_time": "2025-09-16T11:16:33.140131Z",
     "start_time": "2025-09-16T11:16:33.135590Z"
    }
   },
   "cell_type": "code",
   "source": [
    "# Сохраняем вынимаемый элемент в отдельной переменной.\n",
    "# Помните, по умолчанию вынимаем последний элемент в списке (индекс -1\n",
    "popped_item = list1.pop()"
   ],
   "id": "5238f901ae591a3c",
   "outputs": [],
   "execution_count": 20
  },
  {
   "metadata": {
    "ExecuteTime": {
     "end_time": "2025-09-16T11:16:40.080681Z",
     "start_time": "2025-09-16T11:16:40.075066Z"
    }
   },
   "cell_type": "code",
   "source": "popped_item",
   "id": "729a0a3432b7c3ac",
   "outputs": [
    {
     "data": {
      "text/plain": [
       "'append me'"
      ]
     },
     "execution_count": 21,
     "metadata": {},
     "output_type": "execute_result"
    }
   ],
   "execution_count": 21
  },
  {
   "metadata": {
    "ExecuteTime": {
     "end_time": "2025-09-16T11:16:54.611880Z",
     "start_time": "2025-09-16T11:16:54.606189Z"
    }
   },
   "cell_type": "code",
   "source": "list1",
   "id": "ba5c78308c16c042",
   "outputs": [
    {
     "data": {
      "text/plain": [
       "[2, 3]"
      ]
     },
     "execution_count": 22,
     "metadata": {},
     "output_type": "execute_result"
    }
   ],
   "execution_count": 22
  },
  {
   "metadata": {},
   "cell_type": "markdown",
   "source": "Мы также можем использовать методы **sort** и **reverse** для сортировки списков:",
   "id": "57a854e64c9e1e41"
  },
  {
   "metadata": {
    "ExecuteTime": {
     "end_time": "2025-09-17T08:48:01.696616Z",
     "start_time": "2025-09-17T08:48:01.670575Z"
    }
   },
   "cell_type": "code",
   "source": "new_list = ['a','e','x','b','c']",
   "id": "375c45558b6b7b14",
   "outputs": [],
   "execution_count": 5
  },
  {
   "metadata": {
    "ExecuteTime": {
     "end_time": "2025-09-17T08:48:00.529847Z",
     "start_time": "2025-09-17T08:48:00.524847Z"
    }
   },
   "cell_type": "code",
   "source": [
    "# проверка\n",
    "new_list"
   ],
   "id": "139ca51a7ce6244a",
   "outputs": [
    {
     "data": {
      "text/plain": [
       "['a', 'b', 'c', 'e', 'x']"
      ]
     },
     "execution_count": 4,
     "metadata": {},
     "output_type": "execute_result"
    }
   ],
   "execution_count": 4
  },
  {
   "metadata": {
    "ExecuteTime": {
     "end_time": "2025-09-17T08:48:33.913937Z",
     "start_time": "2025-09-17T08:48:33.910075Z"
    }
   },
   "cell_type": "code",
   "source": [
    "# Используем reverse для обратной сортировки (изменения сохраняются в списке!)\n",
    "new_list.reverse()"
   ],
   "id": "7bdd0dc33209dbec",
   "outputs": [],
   "execution_count": 6
  },
  {
   "metadata": {
    "ExecuteTime": {
     "end_time": "2025-09-17T08:48:42.696963Z",
     "start_time": "2025-09-17T08:48:42.672735Z"
    }
   },
   "cell_type": "code",
   "source": "new_list",
   "id": "349cae1c0e96d27d",
   "outputs": [
    {
     "data": {
      "text/plain": [
       "['c', 'b', 'x', 'e', 'a']"
      ]
     },
     "execution_count": 7,
     "metadata": {},
     "output_type": "execute_result"
    }
   ],
   "execution_count": 7
  },
  {
   "metadata": {
    "ExecuteTime": {
     "end_time": "2025-09-17T08:49:14.580652Z",
     "start_time": "2025-09-17T08:49:14.576506Z"
    }
   },
   "cell_type": "code",
   "source": [
    "# Используем sort для сортировки списка (в этом случае по алфавиту, а для чисел было бы по возрастанию)\n",
    "new_list.sort()"
   ],
   "id": "1fd6fa26f10be2c9",
   "outputs": [],
   "execution_count": 10
  },
  {
   "metadata": {
    "ExecuteTime": {
     "end_time": "2025-09-17T08:49:13.476778Z",
     "start_time": "2025-09-17T08:49:13.472024Z"
    }
   },
   "cell_type": "code",
   "source": "new_list",
   "id": "65125a2244ba0c33",
   "outputs": [
    {
     "data": {
      "text/plain": [
       "['a', 'b', 'c', 'e', 'x']"
      ]
     },
     "execution_count": 9,
     "metadata": {},
     "output_type": "execute_result"
    }
   ],
   "execution_count": 9
  },
  {
   "metadata": {},
   "cell_type": "markdown",
   "source": [
    "## Вложенные списки\n",
    "Прекрасная особенность структур данных в Python состоит в том, что они могут быть вложенными (*nested*). Это значит, что мы можем создавать структуры данных внутри структур данных. Например: список внутри списка"
   ],
   "id": "a7adc1382a089759"
  },
  {
   "metadata": {
    "ExecuteTime": {
     "end_time": "2025-09-17T08:51:28.658236Z",
     "start_time": "2025-09-17T08:51:28.653371Z"
    }
   },
   "cell_type": "code",
   "source": [
    "# Создадим три списка\n",
    "lst_1 = [1,2,3]\n",
    "lst_2 = [4,5,6]\n",
    "lst_3 = [7,8,9]\n",
    "\n",
    "# Создадим список списков, получаем матрицу\n",
    "matrix = [lst_1,lst_2,lst_3]"
   ],
   "id": "a8f1c08bc75d52ea",
   "outputs": [],
   "execution_count": 13
  },
  {
   "metadata": {
    "ExecuteTime": {
     "end_time": "2025-09-17T08:51:56.009263Z",
     "start_time": "2025-09-17T08:51:56.000572Z"
    }
   },
   "cell_type": "code",
   "source": [
    "# Проверка\n",
    "matrix"
   ],
   "id": "8106008c1a3ccc32",
   "outputs": [
    {
     "data": {
      "text/plain": [
       "[[1, 2, 3], [4, 5, 6], [7, 8, 9]]"
      ]
     },
     "execution_count": 14,
     "metadata": {},
     "output_type": "execute_result"
    }
   ],
   "execution_count": 14
  },
  {
   "metadata": {},
   "cell_type": "markdown",
   "source": "Мы можем использовать индексы, чтобы получить элементы - но теперь у нас два уровня индексирования. Сначала элементы в списке matrix, а затем элементы внутри выбранного списка!",
   "id": "150511d30773795c"
  },
  {
   "metadata": {
    "ExecuteTime": {
     "end_time": "2025-09-17T08:52:51.701939Z",
     "start_time": "2025-09-17T08:52:51.697307Z"
    }
   },
   "cell_type": "code",
   "source": [
    "# Берем первый элемент в объекте matrix\n",
    "matrix[0]"
   ],
   "id": "70837b3a470ae645",
   "outputs": [
    {
     "data": {
      "text/plain": [
       "[1, 2, 3]"
      ]
     },
     "execution_count": 15,
     "metadata": {},
     "output_type": "execute_result"
    }
   ],
   "execution_count": 15
  },
  {
   "metadata": {
    "ExecuteTime": {
     "end_time": "2025-09-17T08:53:14.459925Z",
     "start_time": "2025-09-17T08:53:14.452885Z"
    }
   },
   "cell_type": "code",
   "source": [
    "# Берем первый элемент внутри первого элемента в объекте matrix\n",
    "matrix[0][0]"
   ],
   "id": "468539e9d2411b0c",
   "outputs": [
    {
     "data": {
      "text/plain": [
       "1"
      ]
     },
     "execution_count": 16,
     "metadata": {},
     "output_type": "execute_result"
    }
   ],
   "execution_count": 16
  },
  {
   "metadata": {},
   "cell_type": "markdown",
   "source": [
    "# Генераторы списков (List Comprehensions)\n",
    "В Python есть возможность создавать списки с помощью генераторов списков (List Comprehensions). Этот термин трудно перевести на русский язык, иногда его ещё переводят как \"абстракция списков\" или \"списковое включение\". Генераторы списков позволяют быстро создавать списки. Чтобы понять их, нам нужно понять работу циклов for. Не волнуйтесь, если этот раздел пока будет выглядеть не вполне понятно - просто пропустите его, мы вернемся к этой теме позже.\n",
    "\n",
    "Но если Вы хотите знать уже сейчас. то вот пример:"
   ],
   "id": "b1da0d89a8a96851"
  },
  {
   "metadata": {
    "ExecuteTime": {
     "end_time": "2025-09-17T08:58:30.548766Z",
     "start_time": "2025-09-17T08:58:30.545138Z"
    }
   },
   "cell_type": "code",
   "source": "first_col =[row[0] for row in matrix]",
   "id": "9116993d137c80a8",
   "outputs": [],
   "execution_count": 21
  },
  {
   "metadata": {
    "ExecuteTime": {
     "end_time": "2025-09-17T08:58:22.214918Z",
     "start_time": "2025-09-17T08:58:22.209326Z"
    }
   },
   "cell_type": "code",
   "source": "first_col",
   "id": "f0d62082c4bac750",
   "outputs": [
    {
     "data": {
      "text/plain": [
       "[2, 5, 8]"
      ]
     },
     "execution_count": 20,
     "metadata": {},
     "output_type": "execute_result"
    }
   ],
   "execution_count": 20
  }
 ],
 "metadata": {
  "kernelspec": {
   "display_name": "Python 3",
   "language": "python",
   "name": "python3"
  },
  "language_info": {
   "codemirror_mode": {
    "name": "ipython",
    "version": 2
   },
   "file_extension": ".py",
   "mimetype": "text/x-python",
   "name": "python",
   "nbconvert_exporter": "python",
   "pygments_lexer": "ipython2",
   "version": "2.7.6"
  }
 },
 "nbformat": 4,
 "nbformat_minor": 5
}
