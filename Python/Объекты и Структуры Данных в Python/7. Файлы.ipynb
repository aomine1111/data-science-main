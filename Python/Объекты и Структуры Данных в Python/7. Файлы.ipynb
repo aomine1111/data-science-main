{
 "cells": [
  {
   "metadata": {},
   "cell_type": "markdown",
   "source": [
    "# Файлы\n",
    "Python использует объекты file для взаимодействия с файлами на Вашем компьютере. Эти объекты file могут быть любыми типами файлов - аудио файлы, текстовые файлы, emails, документы Excel и т.д. Обратите внимание: для работы с некоторыми типами файлов Вам может потребоваться установка определенных библиотек или модулей. Они легко доступны, мы обсудим как скачивать модули позднее в этом курсе.\n",
    "\n",
    "Python имеет встроенную функцию open для открытия и работы с основными типами файлов. Но для начала нам нужен сам файл. Давайте используем небольшую магию IPython, чтобы создать файл!\n",
    "\n",
    "## IPython - запись в файл\n",
    "#### Указанная ниже команда работает только в блокноте Jupyter Notebook (точнее, в IPython)! Как альтернативный вариант, Вы можете просто создать файл .txt в любом текстовом редакторе, например в sublime text editor."
   ],
   "id": "b7cdf674888eb53b"
  },
  {
   "metadata": {},
   "cell_type": "markdown",
   "source": [
    "## Открываем файлa в Python\n",
    "\n",
    "Давайте откроем файл test.txt, который располагается в той же папке, что и этот блокнот. Мы будем работать с файлами в той же папке, что и блокнот Jupyter Notebook или скрипт .py, который Вы используете.\n",
    "\n",
    "На этом шаге можно легко получить ошибку, если Вы попытаетесь открыть файл, которого нет"
   ],
   "id": "75aa0eb07a14766e"
  },
  {
   "metadata": {
    "ExecuteTime": {
     "end_time": "2025-09-21T03:08:53.899325Z",
     "start_time": "2025-09-21T03:08:53.895243Z"
    }
   },
   "cell_type": "code",
   "source": "my_file = open(\"whoops.txt\")",
   "id": "4b31e6ca080b9d0",
   "outputs": [],
   "execution_count": 13
  },
  {
   "metadata": {},
   "cell_type": "markdown",
   "source": "Чтобы избежать ошибки, убедитесь что Ваш файл .txt находится там же, где и notebook. Чтобы проверить папку, в которой находится notebook, используйте **pwd**:",
   "id": "8f157a774536e006"
  },
  {
   "metadata": {
    "ExecuteTime": {
     "end_time": "2025-09-21T03:01:09.042624Z",
     "start_time": "2025-09-21T03:01:09.029464Z"
    }
   },
   "cell_type": "code",
   "source": "pwd",
   "id": "988809f489307cd4",
   "outputs": [
    {
     "data": {
      "text/plain": [
       "'C:\\\\Users\\\\aomin\\\\PycharmProjects\\\\data-science-main\\\\Python\\\\Объекты и Структуры Данных в Python'"
      ]
     },
     "execution_count": 3,
     "metadata": {},
     "output_type": "execute_result"
    }
   ],
   "execution_count": 3
  },
  {
   "metadata": {},
   "cell_type": "markdown",
   "source": [
    "** Как альтернативный вариант, Вы можете прочитать файлы из любой папки на Вашем компьютере, просто указав полный путь к файлу. **\n",
    "\n",
    "В Windows нужно использовать двойные обратные слэши \\, чтобы python не воспринимал второй слэш как символ экранирования. Вот пример:\n",
    "\n",
    "    myfile = open(\"C:\\\\Users\\\\YourUserName\\\\Home\\\\Folder\\\\myfile.txt\")\n",
    "\n",
    "В MacOS и Linux нужно использовать прямые слэши:\n",
    "\n",
    "    myfile = open(\"/Users/YouUserName/Folder/myfile.txt\")"
   ],
   "id": "170f69462e4ed91"
  },
  {
   "metadata": {
    "ExecuteTime": {
     "end_time": "2025-09-21T03:06:54.353960Z",
     "start_time": "2025-09-21T03:06:54.348040Z"
    }
   },
   "cell_type": "code",
   "source": [
    "# Теперь мы можем прочитать данные из файла\n",
    "my_file.read()"
   ],
   "id": "8325454f35664e5b",
   "outputs": [
    {
     "data": {
      "text/plain": [
       "\"'Hello, this is a quick test file'\\n\""
      ]
     },
     "execution_count": 12,
     "metadata": {},
     "output_type": "execute_result"
    }
   ],
   "execution_count": 12
  },
  {
   "metadata": {
    "ExecuteTime": {
     "end_time": "2025-09-21T03:06:18.904817Z",
     "start_time": "2025-09-21T03:06:18.867851Z"
    }
   },
   "cell_type": "code",
   "source": [
    "# А что если мы попытаемся прочитать данные снова?\n",
    "my_file.read()"
   ],
   "id": "27556ae93ca4928f",
   "outputs": [
    {
     "data": {
      "text/plain": [
       "''"
      ]
     },
     "execution_count": 7,
     "metadata": {},
     "output_type": "execute_result"
    }
   ],
   "execution_count": 7
  },
  {
   "metadata": {},
   "cell_type": "markdown",
   "source": "Это произошло, потому что воображаемый \"курсор\" находится в конце файла после того, как чтение выполнено. Поэтому больше нечего прочитать. Мы можем сбросить \"курсор\" вот так:",
   "id": "d74944c4ab5c125f"
  },
  {
   "metadata": {
    "ExecuteTime": {
     "end_time": "2025-09-21T03:06:53.104504Z",
     "start_time": "2025-09-21T03:06:53.098830Z"
    }
   },
   "cell_type": "code",
   "source": [
    "# Перейти к началу файла (индекс 0)\n",
    "my_file.seek(0)"
   ],
   "id": "6dde55d924951fd9",
   "outputs": [
    {
     "data": {
      "text/plain": [
       "0"
      ]
     },
     "execution_count": 11,
     "metadata": {},
     "output_type": "execute_result"
    }
   ],
   "execution_count": 11
  },
  {
   "metadata": {
    "ExecuteTime": {
     "end_time": "2025-09-21T03:09:04.764137Z",
     "start_time": "2025-09-21T03:09:04.758392Z"
    }
   },
   "cell_type": "code",
   "source": [
    "# Readlines возвращает список строк в файле\n",
    "my_file.seek(0)\n",
    "my_file.readlines()"
   ],
   "id": "a3489516a3c060f5",
   "outputs": [
    {
     "data": {
      "text/plain": [
       "[\"'Hello, this is a quick test file'\\n\"]"
      ]
     },
     "execution_count": 14,
     "metadata": {},
     "output_type": "execute_result"
    }
   ],
   "execution_count": 14
  },
  {
   "metadata": {},
   "cell_type": "markdown",
   "source": "Когда Вы закончили работу с файлом, хорошей практикой является закрыть его.",
   "id": "f62f69a31f72b833"
  },
  {
   "metadata": {
    "ExecuteTime": {
     "end_time": "2025-09-21T03:10:21.364820Z",
     "start_time": "2025-09-21T03:10:21.361153Z"
    }
   },
   "cell_type": "code",
   "source": "my_file.close()",
   "id": "dbce3f508ffa3552",
   "outputs": [],
   "execution_count": 15
  },
  {
   "metadata": {},
   "cell_type": "markdown",
   "source": [
    "## Запись в файл\n",
    "\n",
    "По умолчанию, функция `open()` позволяет только читать файл. Чтобы перезаписать файл, мы можем передать параметр `'w'`. Например"
   ],
   "id": "6a945e05f2340da4"
  },
  {
   "metadata": {
    "ExecuteTime": {
     "end_time": "2025-09-21T03:20:02.846388Z",
     "start_time": "2025-09-21T03:20:02.841993Z"
    }
   },
   "cell_type": "code",
   "source": [
    "# Добавляем второй параметр в функцию, 'w' означает write.\n",
    "# Если передаём 'w+', то сможем выполнять и чтение, и запись.\n",
    "\n",
    "my_file = open('whoops.txt','w+')"
   ],
   "id": "3fa060f97d3bf012",
   "outputs": [],
   "execution_count": 21
  },
  {
   "metadata": {},
   "cell_type": "markdown",
   "source": [
    "### <strong><font color='red'>Будьте осторожны!</font></strong>\n",
    "Открывая файл с помощью `'w'` или `'w+'`, существующий файл очищается, то есть всё что было в файле **удаляется**!"
   ],
   "id": "5f54b516551defb3"
  },
  {
   "metadata": {
    "ExecuteTime": {
     "end_time": "2025-09-21T03:55:46.595824Z",
     "start_time": "2025-09-21T03:55:46.583386Z"
    }
   },
   "cell_type": "code",
   "source": [
    "# Записываем строку в файл\n",
    "my_file.write('This is a new line')"
   ],
   "id": "3725b74dcab0666d",
   "outputs": [
    {
     "data": {
      "text/plain": [
       "18"
      ]
     },
     "execution_count": 22,
     "metadata": {},
     "output_type": "execute_result"
    }
   ],
   "execution_count": 22
  },
  {
   "metadata": {
    "ExecuteTime": {
     "end_time": "2025-09-21T03:56:09.564053Z",
     "start_time": "2025-09-21T03:56:09.556905Z"
    }
   },
   "cell_type": "code",
   "source": [
    "# Читаем из файла\n",
    "my_file.seek(0)\n",
    "my_file.read()"
   ],
   "id": "1bc35ed4d4a8acde",
   "outputs": [
    {
     "data": {
      "text/plain": [
       "'This is a new line'"
      ]
     },
     "execution_count": 23,
     "metadata": {},
     "output_type": "execute_result"
    }
   ],
   "execution_count": 23
  },
  {
   "metadata": {
    "ExecuteTime": {
     "end_time": "2025-09-21T03:56:23.138587Z",
     "start_time": "2025-09-21T03:56:23.132175Z"
    }
   },
   "cell_type": "code",
   "source": "my_file.close()  # всегда делайте close, когда закончили работу с файлом",
   "id": "2a8f42690da30566",
   "outputs": [],
   "execution_count": 24
  },
  {
   "metadata": {},
   "cell_type": "markdown",
   "source": [
    "## Добавление данных в файл (append)\n",
    "Значение `'a'` открывает файл и ставит курсор в конец файла, поэтому всё, что будет записано - будет записано (добавлено) в конец файла. По аналогии с `'w+'`, `'a+'` позволяет читать файл и записывать в файл. Если файл не существует, то он будет создан."
   ],
   "id": "cd7c29b1abdc10a1"
  },
  {
   "metadata": {
    "ExecuteTime": {
     "end_time": "2025-09-21T04:35:33.680686Z",
     "start_time": "2025-09-21T04:35:33.669955Z"
    }
   },
   "cell_type": "code",
   "source": [
    "my_file = open('test.txt','a+')\n",
    "my_file.write('\\nThis is text being appended to test.txt')\n",
    "my_file.write('\\nAnd another line here.')"
   ],
   "id": "a5fc49cd831fb3d2",
   "outputs": [
    {
     "data": {
      "text/plain": [
       "23"
      ]
     },
     "execution_count": 25,
     "metadata": {},
     "output_type": "execute_result"
    }
   ],
   "execution_count": 25
  },
  {
   "metadata": {
    "ExecuteTime": {
     "end_time": "2025-09-21T04:36:38.811740Z",
     "start_time": "2025-09-21T04:36:38.805404Z"
    }
   },
   "cell_type": "code",
   "source": [
    "my_file.seek(0)\n",
    "print(my_file.read())"
   ],
   "id": "8268a2ab50005fbe",
   "outputs": [
    {
     "name": "stdout",
     "output_type": "stream",
     "text": [
      "\n",
      "This is text being appended to test.txt\n",
      "And another line here.\n"
     ]
    }
   ],
   "execution_count": 26
  },
  {
   "metadata": {},
   "cell_type": "markdown",
   "source": [
    "### Добавление данных с помощью `%%writefile`\n",
    "Мы можем сделать то же самое с помощью магии IPython:"
   ],
   "id": "d79b926169140444"
  },
  {
   "metadata": {
    "ExecuteTime": {
     "end_time": "2025-09-21T04:39:54.516395Z",
     "start_time": "2025-09-21T04:39:54.502903Z"
    }
   },
   "cell_type": "code",
   "source": [
    "%%writefile -a test.txt\n",
    "\n",
    "This is text being appended to test.txt\n",
    "And another line here"
   ],
   "id": "9857d1805472d130",
   "outputs": [
    {
     "name": "stdout",
     "output_type": "stream",
     "text": [
      "Appending to test.txt\n"
     ]
    }
   ],
   "execution_count": 27
  },
  {
   "metadata": {},
   "cell_type": "markdown",
   "source": [
    "## Проход по файлу\n",
    "\n",
    "Давайте рассмотрим цикл for для прохода по текстовому файлу. Сначала создадим новый текстовый файл с помощью магии IPython"
   ],
   "id": "9c2a012c1ebeed02"
  },
  {
   "metadata": {},
   "cell_type": "markdown",
   "source": "Теперь мы можем создать цикл, который пройдет по файлу строка за строкой, и сделает что-то:",
   "id": "4f4d130d37ab3f43"
  },
  {
   "metadata": {
    "ExecuteTime": {
     "end_time": "2025-09-21T04:41:17.007090Z",
     "start_time": "2025-09-21T04:41:17.000652Z"
    }
   },
   "cell_type": "code",
   "source": [
    "for line in open('test.txt'):\n",
    "    print(line)"
   ],
   "id": "2fe1c70628404479",
   "outputs": [
    {
     "name": "stdout",
     "output_type": "stream",
     "text": [
      "\n",
      "\n",
      "This is text being appended to test.txt\n",
      "\n",
      "And another line here.\n",
      "\n",
      "This is text being appended to test.txt\n",
      "\n",
      "And another line here\n",
      "\n"
     ]
    }
   ],
   "execution_count": 28
  }
 ],
 "metadata": {
  "kernelspec": {
   "display_name": "Python 3",
   "language": "python",
   "name": "python3"
  },
  "language_info": {
   "codemirror_mode": {
    "name": "ipython",
    "version": 2
   },
   "file_extension": ".py",
   "mimetype": "text/x-python",
   "name": "python",
   "nbconvert_exporter": "python",
   "pygments_lexer": "ipython2",
   "version": "2.7.6"
  }
 },
 "nbformat": 4,
 "nbformat_minor": 5
}
