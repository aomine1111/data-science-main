{
 "cells": [
  {
   "metadata": {},
   "cell_type": "code",
   "outputs": [],
   "execution_count": null,
   "source": "",
   "id": "419f1e6b6c1f9d4f"
  },
  {
   "metadata": {},
   "cell_type": "markdown",
   "source": [
    "# Словарь (Dictionaries)\n",
    "Если раньше мы говорили о последовательностях (*sequences*) в Python, то теперь давайте поговорим о маппингах (*mappings*) в Python. Если Вы знакомы с другими языками программирования, то словари можно представить себе как хэш-таблицы\n",
    "\n",
    "Что такое маппинги? Маппинги - это набор объектов, которые можно получить по ключу (*key*). Это отличается от последовательностей, где объекты хранятся в определенном порядке относительно друг друга. Это важное отличие, потому что маппинги не имеют порядка элементов. В маппингах элементы определены с помощью ключей.\n",
    "\n",
    "Словарь в Python состоит из ключа и связанного с ним значения. Значение может быть практически любым объектом Python\n",
    "\n",
    "## Создание словаря\n",
    "Давайте посмотрим, как можно создавать словари - так мы лучше поймём, как они работают!"
   ],
   "id": "ff572a07ba16588e"
  },
  {
   "metadata": {
    "ExecuteTime": {
     "end_time": "2025-09-17T09:18:59.183908Z",
     "start_time": "2025-09-17T09:18:59.096299Z"
    }
   },
   "cell_type": "code",
   "source": [
    "# Словари создаются с помощью {} и : , чтобы указать ключи и значения\n",
    "my_dict = {\"key1\":\"value1\", \"key2\":\"value2\"}"
   ],
   "id": "4dfa31addd37f187",
   "outputs": [],
   "execution_count": 1
  },
  {
   "metadata": {
    "ExecuteTime": {
     "end_time": "2025-09-17T09:18:59.362900Z",
     "start_time": "2025-09-17T09:18:59.242054Z"
    }
   },
   "cell_type": "code",
   "source": [
    "# Получаем значение по его ключу\n",
    "my_dict[\"key2\"]"
   ],
   "id": "50bc30fb3c509d99",
   "outputs": [
    {
     "data": {
      "text/plain": [
       "'value2'"
      ]
     },
     "execution_count": 2,
     "metadata": {},
     "output_type": "execute_result"
    }
   ],
   "execution_count": 2
  },
  {
   "metadata": {},
   "cell_type": "markdown",
   "source": "Словари очень гибки в отношении того, какие типы данных они могут хранить. Например:",
   "id": "79f986900c28f2a"
  },
  {
   "metadata": {
    "ExecuteTime": {
     "end_time": "2025-09-17T13:38:51.201257Z",
     "start_time": "2025-09-17T13:38:51.159113Z"
    }
   },
   "cell_type": "code",
   "source": "my_dict = {\"key1\":123,\"key2\":[12,13,33],\"key3\":['item0','item1','item2']}",
   "id": "bb09ee1a8e3ec849",
   "outputs": [],
   "execution_count": 3
  },
  {
   "metadata": {
    "ExecuteTime": {
     "end_time": "2025-09-17T13:39:17.153734Z",
     "start_time": "2025-09-17T13:39:17.145354Z"
    }
   },
   "cell_type": "code",
   "source": [
    "# Возьмём из словаря элементы items\n",
    "my_dict[\"key3\"]"
   ],
   "id": "ef27ec6b7988b2da",
   "outputs": [
    {
     "data": {
      "text/plain": [
       "['item0', 'item1', 'item2']"
      ]
     },
     "execution_count": 5,
     "metadata": {},
     "output_type": "execute_result"
    }
   ],
   "execution_count": 5
  },
  {
   "metadata": {
    "ExecuteTime": {
     "end_time": "2025-09-17T13:40:33.730485Z",
     "start_time": "2025-09-17T13:40:33.725299Z"
    }
   },
   "cell_type": "code",
   "source": [
    "# Здесь можно использовать индекс для этого значения\n",
    "my_dict['key3'][0]"
   ],
   "id": "d502e14b7a9ef1bb",
   "outputs": [
    {
     "data": {
      "text/plain": [
       "'item0'"
      ]
     },
     "execution_count": 6,
     "metadata": {},
     "output_type": "execute_result"
    }
   ],
   "execution_count": 6
  },
  {
   "metadata": {
    "ExecuteTime": {
     "end_time": "2025-09-17T13:48:50.241335Z",
     "start_time": "2025-09-17T13:48:50.234966Z"
    }
   },
   "cell_type": "code",
   "source": [
    "# И далее мы даже можем использовать методы для этого значения\n",
    "my_dict['key3'][0].upper()"
   ],
   "id": "5136a00894920c06",
   "outputs": [
    {
     "data": {
      "text/plain": [
       "'ITEM0'"
      ]
     },
     "execution_count": 7,
     "metadata": {},
     "output_type": "execute_result"
    }
   ],
   "execution_count": 7
  },
  {
   "metadata": {},
   "cell_type": "markdown",
   "source": "Также мы можем менять значения ключа. Например:",
   "id": "e3f2a586d4bc3e1c"
  },
  {
   "metadata": {
    "ExecuteTime": {
     "end_time": "2025-09-17T13:50:47.901554Z",
     "start_time": "2025-09-17T13:50:47.888922Z"
    }
   },
   "cell_type": "code",
   "source": "my_dict[\"key1\"]",
   "id": "3ab33acb6a850a14",
   "outputs": [
    {
     "data": {
      "text/plain": [
       "123"
      ]
     },
     "execution_count": 8,
     "metadata": {},
     "output_type": "execute_result"
    }
   ],
   "execution_count": 8
  },
  {
   "metadata": {
    "ExecuteTime": {
     "end_time": "2025-09-17T13:52:01.315266Z",
     "start_time": "2025-09-17T13:52:01.310695Z"
    }
   },
   "cell_type": "code",
   "source": [
    "# Вычитаем 123 из значения\n",
    "my_dict[\"key1\"] = my_dict[\"key1\"] - 123"
   ],
   "id": "83b1a88ba45a738f",
   "outputs": [],
   "execution_count": 9
  },
  {
   "metadata": {
    "ExecuteTime": {
     "end_time": "2025-09-17T13:52:19.387300Z",
     "start_time": "2025-09-17T13:52:19.372035Z"
    }
   },
   "cell_type": "code",
   "source": "my_dict[\"key1\"]",
   "id": "f975ae34f0d7627e",
   "outputs": [
    {
     "data": {
      "text/plain": [
       "0"
      ]
     },
     "execution_count": 13,
     "metadata": {},
     "output_type": "execute_result"
    }
   ],
   "execution_count": 13
  },
  {
   "metadata": {},
   "cell_type": "markdown",
   "source": "Мы также можем создавать ключи, присваивая значения. Например, мы можем создать пустой словарь, и затем постепенно добавлять в него элементы:",
   "id": "4a74f7856b5319fe"
  },
  {
   "metadata": {
    "ExecuteTime": {
     "end_time": "2025-09-17T13:53:27.959264Z",
     "start_time": "2025-09-17T13:53:27.954807Z"
    }
   },
   "cell_type": "code",
   "source": [
    "# Создаем новый словарь\n",
    "d = {}"
   ],
   "id": "a91f3b0a7c901914",
   "outputs": [],
   "execution_count": 14
  },
  {
   "metadata": {
    "ExecuteTime": {
     "end_time": "2025-09-17T13:53:54.427330Z",
     "start_time": "2025-09-17T13:53:54.423366Z"
    }
   },
   "cell_type": "code",
   "source": "d[\"animal\"] = \"Dog\"",
   "id": "5886a47acfb3c181",
   "outputs": [],
   "execution_count": 16
  },
  {
   "metadata": {
    "ExecuteTime": {
     "end_time": "2025-09-17T13:54:38.266914Z",
     "start_time": "2025-09-17T13:54:38.258256Z"
    }
   },
   "cell_type": "code",
   "source": "d[\"answer\"] = 42",
   "id": "f05213a082a3c07",
   "outputs": [],
   "execution_count": 18
  },
  {
   "metadata": {
    "ExecuteTime": {
     "end_time": "2025-09-17T13:54:39.278837Z",
     "start_time": "2025-09-17T13:54:39.272516Z"
    }
   },
   "cell_type": "code",
   "source": "d",
   "id": "d2042c9cc0160f05",
   "outputs": [
    {
     "data": {
      "text/plain": [
       "{'animal': 'Dog', 'answer': 42}"
      ]
     },
     "execution_count": 19,
     "metadata": {},
     "output_type": "execute_result"
    }
   ],
   "execution_count": 19
  },
  {
   "metadata": {},
   "cell_type": "markdown",
   "source": "## Вложенные словари\n",
   "id": "dba92047ea8b407a"
  },
  {
   "metadata": {
    "ExecuteTime": {
     "end_time": "2025-09-17T14:17:25.006030Z",
     "start_time": "2025-09-17T14:17:24.996867Z"
    }
   },
   "cell_type": "code",
   "source": [
    "# Словарь внутри словаря внутри словаря\n",
    "d = {'key1':{'nestkey':{'subnestkey':'value'}}}"
   ],
   "id": "d753893b22c8a865",
   "outputs": [],
   "execution_count": 20
  },
  {
   "metadata": {
    "ExecuteTime": {
     "end_time": "2025-09-17T14:17:35.543895Z",
     "start_time": "2025-09-17T14:17:35.530099Z"
    }
   },
   "cell_type": "code",
   "source": [
    "# Последовательно указываем ключи\n",
    "d['key1']['nestkey']['subnestkey']"
   ],
   "id": "62dafb17ed786434",
   "outputs": [
    {
     "data": {
      "text/plain": [
       "'value'"
      ]
     },
     "execution_count": 21,
     "metadata": {},
     "output_type": "execute_result"
    }
   ],
   "execution_count": 21
  },
  {
   "metadata": {},
   "cell_type": "markdown",
   "source": [
    "## Некоторые методы для словарей\n",
    "\n",
    "Для словарей можно вызывать различные методы. Вот некоторые из них:"
   ],
   "id": "a092fb1f3ff9b6a4"
  },
  {
   "metadata": {
    "ExecuteTime": {
     "end_time": "2025-09-17T14:36:18.607020Z",
     "start_time": "2025-09-17T14:36:18.592972Z"
    }
   },
   "cell_type": "code",
   "source": [
    "# Создаем обычный словарь\n",
    "d = {'key1':1,'key2':2,'key3':3}"
   ],
   "id": "3e48e555a4ccff3d",
   "outputs": [],
   "execution_count": 22
  },
  {
   "metadata": {
    "ExecuteTime": {
     "end_time": "2025-09-17T14:36:28.972350Z",
     "start_time": "2025-09-17T14:36:28.955489Z"
    }
   },
   "cell_type": "code",
   "source": [
    "# Метод, который возвращает список всех ключей\n",
    "d.keys()"
   ],
   "id": "c34f4fb5850478d",
   "outputs": [
    {
     "data": {
      "text/plain": [
       "dict_keys(['key1', 'key2', 'key3'])"
      ]
     },
     "execution_count": 23,
     "metadata": {},
     "output_type": "execute_result"
    }
   ],
   "execution_count": 23
  },
  {
   "metadata": {
    "ExecuteTime": {
     "end_time": "2025-09-17T14:36:34.062023Z",
     "start_time": "2025-09-17T14:36:34.057060Z"
    }
   },
   "cell_type": "code",
   "source": [
    "# Метод, возвращающий все значения\n",
    "d.values()"
   ],
   "id": "77507c7168322329",
   "outputs": [
    {
     "data": {
      "text/plain": [
       "dict_values([1, 2, 3])"
      ]
     },
     "execution_count": 24,
     "metadata": {},
     "output_type": "execute_result"
    }
   ],
   "execution_count": 24
  },
  {
   "metadata": {
    "ExecuteTime": {
     "end_time": "2025-09-17T14:36:39.138849Z",
     "start_time": "2025-09-17T14:36:39.126335Z"
    }
   },
   "cell_type": "code",
   "source": [
    "# Метод, возвращающий кортежи (tuples) для всех элементов  (мы рассмотрим кортежи tuples чуть позже)\n",
    "d.items"
   ],
   "id": "e6c2cf463379f481",
   "outputs": [
    {
     "data": {
      "text/plain": [
       "<function dict.items()>"
      ]
     },
     "execution_count": 25,
     "metadata": {},
     "output_type": "execute_result"
    }
   ],
   "execution_count": 25
  }
 ],
 "metadata": {
  "kernelspec": {
   "display_name": "Python 3",
   "language": "python",
   "name": "python3"
  },
  "language_info": {
   "codemirror_mode": {
    "name": "ipython",
    "version": 2
   },
   "file_extension": ".py",
   "mimetype": "text/x-python",
   "name": "python",
   "nbconvert_exporter": "python",
   "pygments_lexer": "ipython2",
   "version": "2.7.6"
  }
 },
 "nbformat": 4,
 "nbformat_minor": 5
}
