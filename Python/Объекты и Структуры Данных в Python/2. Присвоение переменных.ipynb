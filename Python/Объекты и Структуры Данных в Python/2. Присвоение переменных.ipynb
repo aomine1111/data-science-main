{
 "cells": [
  {
   "metadata": {},
   "cell_type": "markdown",
   "source": [
    "# Переменные\n",
    "## Правила для имен переменных\n",
    "* Имя не может начинаться с числа.\n",
    "* В имени не может быть пробелов, вместо этого \"_\"\n",
    "* Имя не может содержать следующие символы\n",
    "        :'\",<>/?|\\!@#%^&*~-+\n",
    "* Считается хорошей практикой писать имена в нижмем регистре\n",
    "* Не используйте в качестве названий переменных ключевые слова Python, такие как `list` и `str`\n",
    "* Не используйте следующие имена из одной буквы: 'l' (нижний регистр буквы L), 'O' (Верхний регистр буквы о), и 'I' (верхний регистр буквы i), потому что их можно спутать с единицей '1' и нулем '0'."
   ],
   "id": "da3be5ed1bd3a5e4"
  },
  {
   "metadata": {},
   "cell_type": "markdown",
   "source": [
    "## Динамические типы данных\n",
    "\n",
    "Python использует динамические типы данных (*dynamic typing*), то есть Вы можете присваивать переменным значения сначала одного, а затем другого типа. Благодаря этому Python очень гибко работает с типами данных; это отличает его от тех языков программирования, в которых типы данных *статичные*."
   ],
   "id": "45515efcb3bf2753"
  },
  {
   "metadata": {
    "ExecuteTime": {
     "end_time": "2025-09-09T13:37:20.477522Z",
     "start_time": "2025-09-09T13:37:20.472195Z"
    }
   },
   "cell_type": "code",
   "source": "my_dog = 2",
   "id": "e2c61129c490bde7",
   "outputs": [],
   "execution_count": 1
  },
  {
   "metadata": {},
   "cell_type": "code",
   "outputs": [],
   "execution_count": null,
   "source": "my_dog",
   "id": "42c6fafd34e30584"
  },
  {
   "metadata": {
    "ExecuteTime": {
     "end_time": "2025-09-09T13:37:50.622153Z",
     "start_time": "2025-09-09T13:37:50.617712Z"
    }
   },
   "cell_type": "code",
   "source": "my_dog = ['Sammy', 'Frankie']",
   "id": "eee0209e0003b5f6",
   "outputs": [],
   "execution_count": 3
  },
  {
   "metadata": {
    "ExecuteTime": {
     "end_time": "2025-09-09T13:37:56.811001Z",
     "start_time": "2025-09-09T13:37:56.805300Z"
    }
   },
   "cell_type": "code",
   "source": "my_dog",
   "id": "4b3c4cd6588a005f",
   "outputs": [
    {
     "data": {
      "text/plain": [
       "['Sammy', 'Frankie']"
      ]
     },
     "execution_count": 5,
     "metadata": {},
     "output_type": "execute_result"
    }
   ],
   "execution_count": 5
  },
  {
   "metadata": {},
   "cell_type": "markdown",
   "source": [
    "## Присвоение переменных\n",
    "Присвоение переменных пишется вот так: `name = object`, где оператор `=` это оператор присвоения (*assignment operator*)"
   ],
   "id": "c4765a4ef966f5c3"
  },
  {
   "metadata": {
    "ExecuteTime": {
     "end_time": "2025-09-09T20:54:38.534534Z",
     "start_time": "2025-09-09T20:54:38.529798Z"
    }
   },
   "cell_type": "code",
   "source": "a = 5",
   "id": "2ebb949b8535db13",
   "outputs": [],
   "execution_count": 7
  },
  {
   "metadata": {
    "ExecuteTime": {
     "end_time": "2025-09-09T20:54:39.469867Z",
     "start_time": "2025-09-09T20:54:39.460933Z"
    }
   },
   "cell_type": "code",
   "source": "a",
   "id": "ce4d6e437ab4e9",
   "outputs": [
    {
     "data": {
      "text/plain": [
       "5"
      ]
     },
     "execution_count": 8,
     "metadata": {},
     "output_type": "execute_result"
    }
   ],
   "execution_count": 8
  },
  {
   "metadata": {},
   "cell_type": "markdown",
   "source": [
    "## Переопределение переменных\n",
    "Python позволяет переопределять переменные, ссылаясь на тот же самый объект"
   ],
   "id": "f5feaa8872b82415"
  },
  {
   "metadata": {
    "ExecuteTime": {
     "end_time": "2025-09-09T20:54:40.923738Z",
     "start_time": "2025-09-09T20:54:40.911627Z"
    }
   },
   "cell_type": "code",
   "source": "a = a + 10",
   "id": "2a7b477eb7f50d73",
   "outputs": [],
   "execution_count": 9
  },
  {
   "metadata": {
    "ExecuteTime": {
     "end_time": "2025-09-09T13:39:52.007336Z",
     "start_time": "2025-09-09T13:39:52.001839Z"
    }
   },
   "cell_type": "code",
   "source": "a",
   "id": "63eb3927240061b1",
   "outputs": [
    {
     "data": {
      "text/plain": [
       "15"
      ]
     },
     "execution_count": 9,
     "metadata": {},
     "output_type": "execute_result"
    }
   ],
   "execution_count": 9
  },
  {
   "metadata": {},
   "cell_type": "markdown",
   "source": "И это можно написать в короткой форме. Python позволяет складывать, вычитать, умножать и делить числа с помощью `+=`, `-=`, `*=` и `/=`.",
   "id": "119e021ff6d1d276"
  },
  {
   "metadata": {
    "ExecuteTime": {
     "end_time": "2025-09-09T20:54:42.275297Z",
     "start_time": "2025-09-09T20:54:42.262829Z"
    }
   },
   "cell_type": "code",
   "source": "a += 10 # это означает: a = a + 10",
   "id": "54b118f7b68a41d9",
   "outputs": [],
   "execution_count": 10
  },
  {
   "metadata": {
    "ExecuteTime": {
     "end_time": "2025-09-09T20:54:43.623719Z",
     "start_time": "2025-09-09T20:54:43.618741Z"
    }
   },
   "cell_type": "code",
   "source": "a",
   "id": "614ca2cc1aa83fc7",
   "outputs": [
    {
     "data": {
      "text/plain": [
       "25"
      ]
     },
     "execution_count": 11,
     "metadata": {},
     "output_type": "execute_result"
    }
   ],
   "execution_count": 11
  },
  {
   "metadata": {
    "ExecuteTime": {
     "end_time": "2025-09-09T20:54:44.624563Z",
     "start_time": "2025-09-09T20:54:44.620618Z"
    }
   },
   "cell_type": "code",
   "source": "a *= 2 # это означает: a = a * 10",
   "id": "76e93288fa85efa3",
   "outputs": [],
   "execution_count": 12
  },
  {
   "metadata": {
    "ExecuteTime": {
     "end_time": "2025-09-09T20:54:51.882720Z",
     "start_time": "2025-09-09T20:54:51.875446Z"
    }
   },
   "cell_type": "code",
   "source": "a",
   "id": "add2e994a4b9f6a1",
   "outputs": [
    {
     "data": {
      "text/plain": [
       "50"
      ]
     },
     "execution_count": 13,
     "metadata": {},
     "output_type": "execute_result"
    }
   ],
   "execution_count": 13
  },
  {
   "metadata": {},
   "cell_type": "markdown",
   "source": [
    "## Определение типа переменной с помощью `type()`\n",
    "Можно узнать тип объекта, который был присвоен переменной, с помощью встроенной функции `type()`.\n",
    "* **int** (для integer)\n",
    "* **float**\n",
    "* **str** (для string)\n",
    "* **list**\n",
    "* **tuple**\n",
    "* **dict** (для dictionary)\n",
    "* **set**\n",
    "* **bool** (для Boolean True/False)"
   ],
   "id": "e0ab105c5bf2db9d"
  },
  {
   "metadata": {
    "ExecuteTime": {
     "end_time": "2025-09-09T20:57:17.566377Z",
     "start_time": "2025-09-09T20:57:17.557203Z"
    }
   },
   "cell_type": "code",
   "source": "type(a)",
   "id": "56ed8f9beefaece8",
   "outputs": [
    {
     "data": {
      "text/plain": [
       "int"
      ]
     },
     "execution_count": 14,
     "metadata": {},
     "output_type": "execute_result"
    }
   ],
   "execution_count": 14
  },
  {
   "metadata": {
    "ExecuteTime": {
     "end_time": "2025-09-09T20:57:30.034798Z",
     "start_time": "2025-09-09T20:57:30.030728Z"
    }
   },
   "cell_type": "code",
   "source": "a = (1,2)",
   "id": "83b49a7db8ee8d70",
   "outputs": [],
   "execution_count": 15
  },
  {
   "metadata": {
    "ExecuteTime": {
     "end_time": "2025-09-09T20:57:36.333600Z",
     "start_time": "2025-09-09T20:57:36.326426Z"
    }
   },
   "cell_type": "code",
   "source": "type(a)",
   "id": "484cdb583c229935",
   "outputs": [
    {
     "data": {
      "text/plain": [
       "tuple"
      ]
     },
     "execution_count": 16,
     "metadata": {},
     "output_type": "execute_result"
    }
   ],
   "execution_count": 16
  }
 ],
 "metadata": {
  "kernelspec": {
   "display_name": "Python 3",
   "language": "python",
   "name": "python3"
  },
  "language_info": {
   "codemirror_mode": {
    "name": "ipython",
    "version": 2
   },
   "file_extension": ".py",
   "mimetype": "text/x-python",
   "name": "python",
   "nbconvert_exporter": "python",
   "pygments_lexer": "ipython2",
   "version": "2.7.6"
  }
 },
 "nbformat": 4,
 "nbformat_minor": 5
}
