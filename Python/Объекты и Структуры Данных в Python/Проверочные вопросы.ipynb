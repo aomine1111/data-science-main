{
 "cells": [
  {
   "metadata": {},
   "cell_type": "markdown",
   "source": "# Проверочное задание - объекты и структуры данных",
   "id": "55bb20198b27b203"
  },
  {
   "metadata": {},
   "cell_type": "markdown",
   "source": [
    "## Числа (Numbers)\n",
    "\n",
    "Напишите любое выражение, которое использует умножение, деление, экспоненту, сложение и вычитание - так, чтобы результат получился равным 100.25.\n",
    "\n",
    "Подсказка: просто вспомните основные арифметические команды, и следуйте обратно от числа 100.25"
   ],
   "id": "ed5a5af695254c73"
  },
  {
   "metadata": {},
   "cell_type": "code",
   "outputs": [],
   "execution_count": null,
   "source": "",
   "id": "1be4051fb2416055"
  },
  {
   "metadata": {},
   "cell_type": "markdown",
   "source": [
    "Дайте ответы на следующие 3 вопроса, без запуска кода. Затем введите код, чтобы проверить ответ.\n",
    "\n",
    "    Какое значение будет результатом выражения 4 * (6 + 5)\n",
    "\n",
    "    Какое значение будет результатом выражения 4 * 6 + 5\n",
    "\n",
    "    Какое значение будет результатом выражения 4 + 6 * 5"
   ],
   "id": "302101533381d628"
  },
  {
   "metadata": {},
   "cell_type": "code",
   "outputs": [],
   "execution_count": null,
   "source": [
    "#1\n",
    "44\n",
    "#2\n",
    "25\n",
    "#3\n",
    "34"
   ],
   "id": "51c36857d23a3c03"
  },
  {
   "metadata": {},
   "cell_type": "markdown",
   "source": "Что Вы будете использовать, чтобы найти квадратный корень числа, а также квадрат числа?",
   "id": "fb2b9c52c99a5825"
  },
  {
   "metadata": {
    "ExecuteTime": {
     "end_time": "2025-09-21T10:58:15.664687Z",
     "start_time": "2025-09-21T10:58:15.658811Z"
    }
   },
   "cell_type": "code",
   "source": [
    "# Квадратный корень:\n",
    "25 ** 0.5"
   ],
   "id": "39bf14facef39a7b",
   "outputs": [
    {
     "data": {
      "text/plain": [
       "5.0"
      ]
     },
     "execution_count": 4,
     "metadata": {},
     "output_type": "execute_result"
    }
   ],
   "execution_count": 4
  },
  {
   "metadata": {
    "ExecuteTime": {
     "end_time": "2025-09-21T10:58:54.311104Z",
     "start_time": "2025-09-21T10:58:54.305599Z"
    }
   },
   "cell_type": "code",
   "source": [
    "# Квадрат:\n",
    "25 ** 2"
   ],
   "id": "78629af1abbbfd41",
   "outputs": [
    {
     "data": {
      "text/plain": [
       "625"
      ]
     },
     "execution_count": 7,
     "metadata": {},
     "output_type": "execute_result"
    }
   ],
   "execution_count": 7
  },
  {
   "metadata": {},
   "cell_type": "markdown",
   "source": "## Строки (Strings)",
   "id": "a06976dc80223bf1"
  },
  {
   "metadata": {},
   "cell_type": "markdown",
   "source": "Есть строка 'hello'. Введите команду, которая выведет букву 'e'. Введите Ваш код в ячейке ниже:",
   "id": "db52eeeb4c4ca0ea"
  },
  {
   "metadata": {
    "ExecuteTime": {
     "end_time": "2025-09-21T10:59:48.966621Z",
     "start_time": "2025-09-21T10:59:48.958395Z"
    }
   },
   "cell_type": "code",
   "source": [
    "s = 'hello'\n",
    "# Выведите 'e' с помощью индексирования\n",
    "s[1]"
   ],
   "id": "2b264d427dcbff56",
   "outputs": [
    {
     "data": {
      "text/plain": [
       "'e'"
      ]
     },
     "execution_count": 8,
     "metadata": {},
     "output_type": "execute_result"
    }
   ],
   "execution_count": 8
  },
  {
   "metadata": {
    "ExecuteTime": {
     "end_time": "2025-09-21T11:00:24.914484Z",
     "start_time": "2025-09-21T11:00:24.908483Z"
    }
   },
   "cell_type": "code",
   "source": [
    "#Выведите строку 'hello' в обратном порядке\n",
    "s = \"hello\"\n",
    "s[::-1]"
   ],
   "id": "bd871d6e5e0d6c2d",
   "outputs": [
    {
     "data": {
      "text/plain": [
       "'olleh'"
      ]
     },
     "execution_count": 9,
     "metadata": {},
     "output_type": "execute_result"
    }
   ],
   "execution_count": 9
  },
  {
   "metadata": {},
   "cell_type": "markdown",
   "source": "Используя строку hello, укажите два способа, как можно получить букву 'o' с помощью индексирования.",
   "id": "dc05c32a8d734e50"
  },
  {
   "metadata": {
    "ExecuteTime": {
     "end_time": "2025-09-21T11:01:58.571156Z",
     "start_time": "2025-09-21T11:01:58.566050Z"
    }
   },
   "cell_type": "code",
   "source": [
    "s ='hello'\n",
    "# Выведите букву 'o'\n",
    "\n",
    "# Способ 1:\n",
    "s[-1]"
   ],
   "id": "1f91b827c1d8e338",
   "outputs": [
    {
     "data": {
      "text/plain": [
       "'o'"
      ]
     },
     "execution_count": 12,
     "metadata": {},
     "output_type": "execute_result"
    }
   ],
   "execution_count": 12
  },
  {
   "metadata": {
    "ExecuteTime": {
     "end_time": "2025-09-21T11:03:30.045234Z",
     "start_time": "2025-09-21T11:03:30.039357Z"
    }
   },
   "cell_type": "code",
   "source": [
    "# Способ 2:\n",
    "s[4]"
   ],
   "id": "a3c74f6b39af77dd",
   "outputs": [
    {
     "data": {
      "text/plain": [
       "'o'"
      ]
     },
     "execution_count": 13,
     "metadata": {},
     "output_type": "execute_result"
    }
   ],
   "execution_count": 13
  },
  {
   "metadata": {},
   "cell_type": "markdown",
   "source": "## Списки (Lists)",
   "id": "1a610514dbda9376"
  },
  {
   "metadata": {},
   "cell_type": "markdown",
   "source": "Создайте список [0,0,0] двумя разными способами.",
   "id": "6df28063d12db7d4"
  },
  {
   "metadata": {
    "ExecuteTime": {
     "end_time": "2025-09-21T11:05:25.558874Z",
     "start_time": "2025-09-21T11:05:25.552571Z"
    }
   },
   "cell_type": "code",
   "source": [
    "# Способ 1:\n",
    "arr_1 = [0,0,0]\n",
    "arr_1"
   ],
   "id": "1fb0cbbb9062c1e2",
   "outputs": [
    {
     "data": {
      "text/plain": [
       "[0, 0, 0]"
      ]
     },
     "execution_count": 16,
     "metadata": {},
     "output_type": "execute_result"
    }
   ],
   "execution_count": 16
  },
  {
   "metadata": {
    "ExecuteTime": {
     "end_time": "2025-09-21T11:08:08.474515Z",
     "start_time": "2025-09-21T11:08:08.465695Z"
    }
   },
   "cell_type": "code",
   "source": [
    "# Способ 2:\n",
    "arr_2 = [0] * 3\n",
    "arr_2"
   ],
   "id": "e8ea9fcebc07b535",
   "outputs": [
    {
     "data": {
      "text/plain": [
       "[0, 0, 0]"
      ]
     },
     "execution_count": 19,
     "metadata": {},
     "output_type": "execute_result"
    }
   ],
   "execution_count": 19
  },
  {
   "metadata": {},
   "cell_type": "markdown",
   "source": "Переопределите 'hello' в этом сложенном списке, чтобы вместо этого сказать 'goodbye':",
   "id": "8c377a57f794dd6c"
  },
  {
   "metadata": {
    "ExecuteTime": {
     "end_time": "2025-09-21T11:11:20.017942Z",
     "start_time": "2025-09-21T11:11:20.012012Z"
    }
   },
   "cell_type": "code",
   "source": [
    "list3 = [1,2,[3,4,'hello']]\n",
    "list3[2][2] = \"Goodbye\"\n",
    "list3"
   ],
   "id": "9453b905ab37b2eb",
   "outputs": [
    {
     "data": {
      "text/plain": [
       "[1, 2, [3, 4, 'Goodbye']]"
      ]
     },
     "execution_count": 23,
     "metadata": {},
     "output_type": "execute_result"
    }
   ],
   "execution_count": 23
  },
  {
   "metadata": {},
   "cell_type": "markdown",
   "source": "Отсортируйте список ниже:",
   "id": "61f3150ecae9fcc5"
  },
  {
   "metadata": {
    "ExecuteTime": {
     "end_time": "2025-09-21T11:14:01.317632Z",
     "start_time": "2025-09-21T11:14:01.311284Z"
    }
   },
   "cell_type": "code",
   "source": [
    "list4 = [5,3,4,6,1]\n",
    "# Способ 1\n",
    "list4.reverse()"
   ],
   "id": "4a569b4d427a029b",
   "outputs": [
    {
     "data": {
      "text/plain": [
       "[5, 3, 4, 6, 1]"
      ]
     },
     "execution_count": 26,
     "metadata": {},
     "output_type": "execute_result"
    }
   ],
   "execution_count": 26
  },
  {
   "metadata": {
    "ExecuteTime": {
     "end_time": "2025-09-21T11:19:48.203264Z",
     "start_time": "2025-09-21T11:19:48.196952Z"
    }
   },
   "cell_type": "code",
   "source": [
    "# Способ 2\n",
    "new_list = list4[::-1]\n",
    "new_list\n"
   ],
   "id": "cbaf009b409dbdca",
   "outputs": [
    {
     "data": {
      "text/plain": [
       "[1, 6, 4, 3, 5]"
      ]
     },
     "execution_count": 29,
     "metadata": {},
     "output_type": "execute_result"
    }
   ],
   "execution_count": 29
  },
  {
   "metadata": {},
   "cell_type": "markdown",
   "source": "## Словари (Dictionaries)",
   "id": "e11f12200930e47f"
  },
  {
   "metadata": {},
   "cell_type": "markdown",
   "source": "Используя ключи и индексирование, прочитайте 'hello' из следующих словарей:",
   "id": "de89ce4a8b2f7ecd"
  },
  {
   "metadata": {
    "ExecuteTime": {
     "end_time": "2025-09-21T11:21:52.812151Z",
     "start_time": "2025-09-21T11:21:52.805752Z"
    }
   },
   "cell_type": "code",
   "source": [
    "d = {\"simple_key\":\"hello\"}\n",
    "# прочитайте 'hello'\n",
    "d[\"simple_key\"]"
   ],
   "id": "47880412596f53fe",
   "outputs": [
    {
     "data": {
      "text/plain": [
       "'hello'"
      ]
     },
     "execution_count": 30,
     "metadata": {},
     "output_type": "execute_result"
    }
   ],
   "execution_count": 30
  },
  {
   "metadata": {
    "ExecuteTime": {
     "end_time": "2025-09-21T11:22:50.694057Z",
     "start_time": "2025-09-21T11:22:50.687575Z"
    }
   },
   "cell_type": "code",
   "source": [
    "d = {'k1':{'k2':'hello'}}\n",
    "# прочитайте 'hello'\n",
    "d[\"k1\"][\"k2\"]"
   ],
   "id": "3754bcce1342d7be",
   "outputs": [
    {
     "data": {
      "text/plain": [
       "'hello'"
      ]
     },
     "execution_count": 31,
     "metadata": {},
     "output_type": "execute_result"
    }
   ],
   "execution_count": 31
  },
  {
   "metadata": {
    "ExecuteTime": {
     "end_time": "2025-09-21T11:26:49.504146Z",
     "start_time": "2025-09-21T11:26:49.498335Z"
    }
   },
   "cell_type": "code",
   "source": [
    "# Здесь немного сложнее\n",
    "d = {'k1':[{'nest_key':['this is deep',['hello']]}]}\n",
    "\n",
    "# прочитайте hello\n",
    "d[\"k1\"][0][\"nest_key\"][1][0]"
   ],
   "id": "869bf6ba7c9f6a87",
   "outputs": [
    {
     "data": {
      "text/plain": [
       "'hello'"
      ]
     },
     "execution_count": 34,
     "metadata": {},
     "output_type": "execute_result"
    }
   ],
   "execution_count": 34
  },
  {
   "metadata": {},
   "cell_type": "markdown",
   "source": "Можно ли отсортировать словарь? Почему (или почему нет)?<br><br>",
   "id": "4fda4eca18c67364"
  },
  {
   "metadata": {},
   "cell_type": "markdown",
   "source": "**Ответ: нет! Потому что обычные словари это *маппинги*, а не последовательности. **",
   "id": "dbdd45a6691682f2"
  },
  {
   "metadata": {},
   "cell_type": "markdown",
   "source": "## Кортежи (Tuples)",
   "id": "e8c429baf9bc5dab"
  },
  {
   "metadata": {},
   "cell_type": "markdown",
   "source": "В чем основная разница между кортежами и списками?<br><br>",
   "id": "66ef46646bd5e2b2"
  },
  {
   "metadata": {},
   "cell_type": "markdown",
   "source": "Ответ: Не изменяются",
   "id": "98c4c7c0a4b48349"
  },
  {
   "metadata": {},
   "cell_type": "markdown",
   "source": "Как можно создать кортеж?<br><br>",
   "id": "4fe6c7fa6775365b"
  },
  {
   "metadata": {
    "ExecuteTime": {
     "end_time": "2025-09-21T11:57:17.680439Z",
     "start_time": "2025-09-21T11:57:17.673958Z"
    }
   },
   "cell_type": "code",
   "source": [
    "t = (1,2,3,4,5,6,45,3,)\n",
    "t"
   ],
   "id": "1a56485dd35d80ae",
   "outputs": [
    {
     "data": {
      "text/plain": [
       "(1, 2, 3, 4, 5, 6, 45, 3)"
      ]
     },
     "execution_count": 35,
     "metadata": {},
     "output_type": "execute_result"
    }
   ],
   "execution_count": 35
  },
  {
   "metadata": {},
   "cell_type": "markdown",
   "source": "## Множества (Sets)",
   "id": "bdb963e78d613067"
  },
  {
   "metadata": {},
   "cell_type": "markdown",
   "source": "В чем основная особенность множеств?<br><br>",
   "id": "12a33db6fc7bc9ae"
  },
  {
   "metadata": {},
   "cell_type": "markdown",
   "source": "Нет повторяющихся значений",
   "id": "6f397c9cba6486e0"
  },
  {
   "metadata": {},
   "cell_type": "markdown",
   "source": "Используйте множество, чтобы найти уникальные значения в списке ниже:",
   "id": "320b5d39b3d109d9"
  },
  {
   "metadata": {
    "ExecuteTime": {
     "end_time": "2025-09-21T12:03:04.741528Z",
     "start_time": "2025-09-21T12:03:04.734813Z"
    }
   },
   "cell_type": "code",
   "source": [
    "list5 = [1,2,2,33,4,4,11,22,3,3,2]\n",
    "set(list5)"
   ],
   "id": "b662e27fedf13483",
   "outputs": [
    {
     "data": {
      "text/plain": [
       "{1, 2, 3, 4, 11, 22, 33}"
      ]
     },
     "execution_count": 36,
     "metadata": {},
     "output_type": "execute_result"
    }
   ],
   "execution_count": 36
  }
 ],
 "metadata": {
  "kernelspec": {
   "display_name": "Python 3",
   "language": "python",
   "name": "python3"
  },
  "language_info": {
   "codemirror_mode": {
    "name": "ipython",
    "version": 2
   },
   "file_extension": ".py",
   "mimetype": "text/x-python",
   "name": "python",
   "nbconvert_exporter": "python",
   "pygments_lexer": "ipython2",
   "version": "2.7.6"
  }
 },
 "nbformat": 4,
 "nbformat_minor": 5
}
