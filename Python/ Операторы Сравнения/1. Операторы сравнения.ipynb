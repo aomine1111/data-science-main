{
 "cells": [
  {
   "metadata": {},
   "cell_type": "markdown",
   "source": [
    "# Операторы сравнения\n",
    "h2> Таблица операторов сравнения </h2><p>  В таблице ниже, a=3 и b=4.</p>\n",
    "\n",
    "<table class=\"table table-bordered\">\n",
    "<tr>\n",
    "<th style=\"width:10%\">Оператор</th><th style=\"width:45%\">Описание</th><th>Пример</th>\n",
    "</tr>\n",
    "<tr>\n",
    "<td>==</td>\n",
    "<td>Если значения двух операндов равны, то условие становится true.</td>\n",
    "<td> (a == b) не равно true.</td>\n",
    "</tr>\n",
    "<tr>\n",
    "<td>!=</td>\n",
    "<td>Если значения двух операндов не равны, то условие становится true.</td>\n",
    "<td> (a != b) равно true.</td>\n",
    "</tr>\n",
    "<tr>\n",
    "<td>&gt;</td>\n",
    "<td>Если значение левого операнда больше значения правого операнда, то условие становится true.</td>\n",
    "<td> (a &gt; b) не равно true.</td>\n",
    "</tr>\n",
    "<tr>\n",
    "<td>&lt;</td>\n",
    "<td>Если значение левого операнда меньше значения правого операнда, то условие становится true.</td>\n",
    "<td> (a &lt; b) равно true.</td>\n",
    "</tr>\n",
    "<tr>\n",
    "<td>&gt;=</td>\n",
    "<td>Если значение левого операнда больше или равно значению правого операнда, то условие становится true.</td>\n",
    "<td> (a &gt;= b) не равно true. </td>\n",
    "</tr>\n",
    "<tr>\n",
    "<td>&lt;=</td>\n",
    "<td>Если значение левого операнда меньше или равно значению правого операнда, то условие становится true.</td>\n",
    "<td> (a &lt;= b) равно true. </td>\n",
    "</tr>\n",
    "</table>"
   ],
   "id": "1ad4e98c23c12a6"
  }
 ],
 "metadata": {
  "kernelspec": {
   "display_name": "Python 3",
   "language": "python",
   "name": "python3"
  },
  "language_info": {
   "codemirror_mode": {
    "name": "ipython",
    "version": 2
   },
   "file_extension": ".py",
   "mimetype": "text/x-python",
   "name": "python",
   "nbconvert_exporter": "python",
   "pygments_lexer": "ipython2",
   "version": "2.7.6"
  }
 },
 "nbformat": 4,
 "nbformat_minor": 5
}
