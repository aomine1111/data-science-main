{
 "cells": [
  {
   "metadata": {},
   "cell_type": "markdown",
   "source": [
    "# Соединение операторов сравнения (chained comparison)\n",
    "\n",
    "В Python можно объединять несколько операторов сравнения, чтобы выполнять более сложные проверки. Таким способом можно более кратко написать большие Boolean-выражения."
   ],
   "id": "d0e15d35105bd9f1"
  },
  {
   "metadata": {
    "ExecuteTime": {
     "end_time": "2025-09-23T01:37:05.721319Z",
     "start_time": "2025-09-23T01:37:05.705819Z"
    }
   },
   "cell_type": "code",
   "source": "1 < 2 < 3",
   "id": "db352c13cf619ac5",
   "outputs": [
    {
     "data": {
      "text/plain": [
       "True"
      ]
     },
     "execution_count": 1,
     "metadata": {},
     "output_type": "execute_result"
    }
   ],
   "execution_count": 1
  },
  {
   "metadata": {},
   "cell_type": "markdown",
   "source": "Указанное выше условие проверяет, что 1 меньше 2 **и (and)** что 2 меньше 3.  Это можно написать также с помощью операции **and** в Python:",
   "id": "619d1cce5c723c6c"
  },
  {
   "metadata": {
    "ExecuteTime": {
     "end_time": "2025-09-23T01:37:26.122943Z",
     "start_time": "2025-09-23T01:37:26.112565Z"
    }
   },
   "cell_type": "code",
   "source": "1 < 2 and 2 < 3",
   "id": "51cc5cd56ce2ed13",
   "outputs": [
    {
     "data": {
      "text/plain": [
       "True"
      ]
     },
     "execution_count": 2,
     "metadata": {},
     "output_type": "execute_result"
    }
   ],
   "execution_count": 2
  },
  {
   "metadata": {},
   "cell_type": "markdown",
   "source": "Операция **and** говорит о том, что оба условия должны принимать значение true, чтобы всё условие приняло значение true. Рассмотрим другой пример:",
   "id": "461ee594fc05043d"
  },
  {
   "metadata": {
    "ExecuteTime": {
     "end_time": "2025-09-23T01:38:36.944599Z",
     "start_time": "2025-09-23T01:38:36.937521Z"
    }
   },
   "cell_type": "code",
   "source": "1 < 3 > 2",
   "id": "c04146b759bd0744",
   "outputs": [
    {
     "data": {
      "text/plain": [
       "True"
      ]
     },
     "execution_count": 3,
     "metadata": {},
     "output_type": "execute_result"
    }
   ],
   "execution_count": 3
  },
  {
   "metadata": {},
   "cell_type": "markdown",
   "source": "Важно сказать, что Python выполняет обе проверки.  Мы также можем использовать **or** для сравнений в Python. Например:",
   "id": "e53395743f725eb1"
  },
  {
   "metadata": {
    "ExecuteTime": {
     "end_time": "2025-09-23T01:39:25.271750Z",
     "start_time": "2025-09-23T01:39:25.261401Z"
    }
   },
   "cell_type": "code",
   "source": "1==2 or 2<3",
   "id": "46bac6fad9a1d0c9",
   "outputs": [
    {
     "data": {
      "text/plain": [
       "True"
      ]
     },
     "execution_count": 4,
     "metadata": {},
     "output_type": "execute_result"
    }
   ],
   "execution_count": 4
  }
 ],
 "metadata": {
  "kernelspec": {
   "display_name": "Python 3",
   "language": "python",
   "name": "python3"
  },
  "language_info": {
   "codemirror_mode": {
    "name": "ipython",
    "version": 2
   },
   "file_extension": ".py",
   "mimetype": "text/x-python",
   "name": "python",
   "nbconvert_exporter": "python",
   "pygments_lexer": "ipython2",
   "version": "2.7.6"
  }
 },
 "nbformat": 4,
 "nbformat_minor": 5
}
